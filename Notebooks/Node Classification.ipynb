{
 "cells": [
  {
   "cell_type": "code",
   "execution_count": 54,
   "id": "949c38be",
   "metadata": {},
   "outputs": [],
   "source": [
    "import torch #The torch package contains data structures for multi-dimensional tensors and mathematical operations over these are defined.\n",
    "import torchvision #The torchvision package consists of popular datasets, model architectures, and common image transformations for computer vision.\n",
    "import torch.nn as nn\n",
    "import numpy as np\n",
    "import torchvision.transforms as transforms\n",
    "import torch.nn.functional as F\n",
    "from torch_geometric.nn import GCNConv\n",
    "from torch_geometric.nn import SAGEConv\n",
    "from torch_geometric.nn import GATConv\n",
    "import pandas as pd"
   ]
  },
  {
   "cell_type": "code",
   "execution_count": 2,
   "id": "2d8f5ae5",
   "metadata": {},
   "outputs": [],
   "source": [
    "edge_dataset=pd.read_csv('large_twitch_edges.csv')"
   ]
  },
  {
   "cell_type": "code",
   "execution_count": 3,
   "id": "9f7eed75",
   "metadata": {},
   "outputs": [],
   "source": [
    "features_dataset=pd.read_csv('large_twitch_features.csv')"
   ]
  },
  {
   "cell_type": "code",
   "execution_count": 4,
   "id": "a06910a9",
   "metadata": {},
   "outputs": [
    {
     "name": "stdout",
     "output_type": "stream",
     "text": [
      "<class 'pandas.core.frame.DataFrame'>\n",
      "RangeIndex: 6797557 entries, 0 to 6797556\n",
      "Data columns (total 2 columns):\n",
      " #   Column        Dtype\n",
      "---  ------        -----\n",
      " 0   numeric_id_1  int64\n",
      " 1   numeric_id_2  int64\n",
      "dtypes: int64(2)\n",
      "memory usage: 103.7 MB\n"
     ]
    }
   ],
   "source": [
    "edge_dataset.info()"
   ]
  },
  {
   "cell_type": "code",
   "execution_count": 5,
   "id": "70b4406d",
   "metadata": {},
   "outputs": [
    {
     "data": {
      "text/html": [
       "<div>\n",
       "<style scoped>\n",
       "    .dataframe tbody tr th:only-of-type {\n",
       "        vertical-align: middle;\n",
       "    }\n",
       "\n",
       "    .dataframe tbody tr th {\n",
       "        vertical-align: top;\n",
       "    }\n",
       "\n",
       "    .dataframe thead th {\n",
       "        text-align: right;\n",
       "    }\n",
       "</style>\n",
       "<table border=\"1\" class=\"dataframe\">\n",
       "  <thead>\n",
       "    <tr style=\"text-align: right;\">\n",
       "      <th></th>\n",
       "      <th>numeric_id_1</th>\n",
       "      <th>numeric_id_2</th>\n",
       "    </tr>\n",
       "  </thead>\n",
       "  <tbody>\n",
       "    <tr>\n",
       "      <th>0</th>\n",
       "      <td>98343</td>\n",
       "      <td>141493</td>\n",
       "    </tr>\n",
       "    <tr>\n",
       "      <th>1</th>\n",
       "      <td>98343</td>\n",
       "      <td>58736</td>\n",
       "    </tr>\n",
       "    <tr>\n",
       "      <th>2</th>\n",
       "      <td>98343</td>\n",
       "      <td>140703</td>\n",
       "    </tr>\n",
       "    <tr>\n",
       "      <th>3</th>\n",
       "      <td>98343</td>\n",
       "      <td>151401</td>\n",
       "    </tr>\n",
       "    <tr>\n",
       "      <th>4</th>\n",
       "      <td>98343</td>\n",
       "      <td>157118</td>\n",
       "    </tr>\n",
       "  </tbody>\n",
       "</table>\n",
       "</div>"
      ],
      "text/plain": [
       "   numeric_id_1  numeric_id_2\n",
       "0         98343        141493\n",
       "1         98343         58736\n",
       "2         98343        140703\n",
       "3         98343        151401\n",
       "4         98343        157118"
      ]
     },
     "execution_count": 5,
     "metadata": {},
     "output_type": "execute_result"
    }
   ],
   "source": [
    "edge_dataset.head()"
   ]
  },
  {
   "cell_type": "code",
   "execution_count": 6,
   "id": "bb71cc72",
   "metadata": {},
   "outputs": [
    {
     "name": "stdout",
     "output_type": "stream",
     "text": [
      "<class 'pandas.core.frame.DataFrame'>\n",
      "RangeIndex: 168114 entries, 0 to 168113\n",
      "Data columns (total 9 columns):\n",
      " #   Column        Non-Null Count   Dtype \n",
      "---  ------        --------------   ----- \n",
      " 0   views         168114 non-null  int64 \n",
      " 1   mature        168114 non-null  int64 \n",
      " 2   life_time     168114 non-null  int64 \n",
      " 3   created_at    168114 non-null  object\n",
      " 4   updated_at    168114 non-null  object\n",
      " 5   numeric_id    168114 non-null  int64 \n",
      " 6   dead_account  168114 non-null  int64 \n",
      " 7   language      168114 non-null  object\n",
      " 8   affiliate     168114 non-null  int64 \n",
      "dtypes: int64(6), object(3)\n",
      "memory usage: 11.5+ MB\n"
     ]
    }
   ],
   "source": [
    "features_dataset.info()"
   ]
  },
  {
   "cell_type": "code",
   "execution_count": 7,
   "id": "8def383f",
   "metadata": {},
   "outputs": [
    {
     "data": {
      "text/html": [
       "<div>\n",
       "<style scoped>\n",
       "    .dataframe tbody tr th:only-of-type {\n",
       "        vertical-align: middle;\n",
       "    }\n",
       "\n",
       "    .dataframe tbody tr th {\n",
       "        vertical-align: top;\n",
       "    }\n",
       "\n",
       "    .dataframe thead th {\n",
       "        text-align: right;\n",
       "    }\n",
       "</style>\n",
       "<table border=\"1\" class=\"dataframe\">\n",
       "  <thead>\n",
       "    <tr style=\"text-align: right;\">\n",
       "      <th></th>\n",
       "      <th>views</th>\n",
       "      <th>mature</th>\n",
       "      <th>life_time</th>\n",
       "      <th>created_at</th>\n",
       "      <th>updated_at</th>\n",
       "      <th>numeric_id</th>\n",
       "      <th>dead_account</th>\n",
       "      <th>language</th>\n",
       "      <th>affiliate</th>\n",
       "    </tr>\n",
       "  </thead>\n",
       "  <tbody>\n",
       "    <tr>\n",
       "      <th>0</th>\n",
       "      <td>7879</td>\n",
       "      <td>1</td>\n",
       "      <td>969</td>\n",
       "      <td>2016-02-16</td>\n",
       "      <td>2018-10-12</td>\n",
       "      <td>0</td>\n",
       "      <td>0</td>\n",
       "      <td>EN</td>\n",
       "      <td>1</td>\n",
       "    </tr>\n",
       "    <tr>\n",
       "      <th>1</th>\n",
       "      <td>500</td>\n",
       "      <td>0</td>\n",
       "      <td>2699</td>\n",
       "      <td>2011-05-19</td>\n",
       "      <td>2018-10-08</td>\n",
       "      <td>1</td>\n",
       "      <td>0</td>\n",
       "      <td>EN</td>\n",
       "      <td>0</td>\n",
       "    </tr>\n",
       "    <tr>\n",
       "      <th>2</th>\n",
       "      <td>382502</td>\n",
       "      <td>1</td>\n",
       "      <td>3149</td>\n",
       "      <td>2010-02-27</td>\n",
       "      <td>2018-10-12</td>\n",
       "      <td>2</td>\n",
       "      <td>0</td>\n",
       "      <td>EN</td>\n",
       "      <td>1</td>\n",
       "    </tr>\n",
       "    <tr>\n",
       "      <th>3</th>\n",
       "      <td>386</td>\n",
       "      <td>0</td>\n",
       "      <td>1344</td>\n",
       "      <td>2015-01-26</td>\n",
       "      <td>2018-10-01</td>\n",
       "      <td>3</td>\n",
       "      <td>0</td>\n",
       "      <td>EN</td>\n",
       "      <td>0</td>\n",
       "    </tr>\n",
       "    <tr>\n",
       "      <th>4</th>\n",
       "      <td>2486</td>\n",
       "      <td>0</td>\n",
       "      <td>1784</td>\n",
       "      <td>2013-11-22</td>\n",
       "      <td>2018-10-11</td>\n",
       "      <td>4</td>\n",
       "      <td>0</td>\n",
       "      <td>EN</td>\n",
       "      <td>0</td>\n",
       "    </tr>\n",
       "  </tbody>\n",
       "</table>\n",
       "</div>"
      ],
      "text/plain": [
       "    views  mature  life_time  created_at  updated_at  numeric_id  \\\n",
       "0    7879       1        969  2016-02-16  2018-10-12           0   \n",
       "1     500       0       2699  2011-05-19  2018-10-08           1   \n",
       "2  382502       1       3149  2010-02-27  2018-10-12           2   \n",
       "3     386       0       1344  2015-01-26  2018-10-01           3   \n",
       "4    2486       0       1784  2013-11-22  2018-10-11           4   \n",
       "\n",
       "   dead_account language  affiliate  \n",
       "0             0       EN          1  \n",
       "1             0       EN          0  \n",
       "2             0       EN          1  \n",
       "3             0       EN          0  \n",
       "4             0       EN          0  "
      ]
     },
     "execution_count": 7,
     "metadata": {},
     "output_type": "execute_result"
    }
   ],
   "source": [
    "features_dataset.head()"
   ]
  },
  {
   "cell_type": "code",
   "execution_count": 8,
   "id": "e8d97d0e",
   "metadata": {},
   "outputs": [
    {
     "data": {
      "text/html": [
       "<div>\n",
       "<style scoped>\n",
       "    .dataframe tbody tr th:only-of-type {\n",
       "        vertical-align: middle;\n",
       "    }\n",
       "\n",
       "    .dataframe tbody tr th {\n",
       "        vertical-align: top;\n",
       "    }\n",
       "\n",
       "    .dataframe thead th {\n",
       "        text-align: right;\n",
       "    }\n",
       "</style>\n",
       "<table border=\"1\" class=\"dataframe\">\n",
       "  <thead>\n",
       "    <tr style=\"text-align: right;\">\n",
       "      <th></th>\n",
       "      <th>views</th>\n",
       "      <th>mature</th>\n",
       "      <th>life_time</th>\n",
       "      <th>created_at</th>\n",
       "      <th>updated_at</th>\n",
       "      <th>numeric_id</th>\n",
       "      <th>dead_account</th>\n",
       "      <th>language</th>\n",
       "      <th>affiliate</th>\n",
       "    </tr>\n",
       "  </thead>\n",
       "  <tbody>\n",
       "    <tr>\n",
       "      <th>0</th>\n",
       "      <td>7879</td>\n",
       "      <td>1</td>\n",
       "      <td>969</td>\n",
       "      <td>2016-02-16</td>\n",
       "      <td>2018-10-12</td>\n",
       "      <td>0</td>\n",
       "      <td>0</td>\n",
       "      <td>EN</td>\n",
       "      <td>1</td>\n",
       "    </tr>\n",
       "    <tr>\n",
       "      <th>1</th>\n",
       "      <td>500</td>\n",
       "      <td>0</td>\n",
       "      <td>2699</td>\n",
       "      <td>2011-05-19</td>\n",
       "      <td>2018-10-08</td>\n",
       "      <td>1</td>\n",
       "      <td>0</td>\n",
       "      <td>EN</td>\n",
       "      <td>0</td>\n",
       "    </tr>\n",
       "    <tr>\n",
       "      <th>2</th>\n",
       "      <td>382502</td>\n",
       "      <td>1</td>\n",
       "      <td>3149</td>\n",
       "      <td>2010-02-27</td>\n",
       "      <td>2018-10-12</td>\n",
       "      <td>2</td>\n",
       "      <td>0</td>\n",
       "      <td>EN</td>\n",
       "      <td>1</td>\n",
       "    </tr>\n",
       "    <tr>\n",
       "      <th>3</th>\n",
       "      <td>386</td>\n",
       "      <td>0</td>\n",
       "      <td>1344</td>\n",
       "      <td>2015-01-26</td>\n",
       "      <td>2018-10-01</td>\n",
       "      <td>3</td>\n",
       "      <td>0</td>\n",
       "      <td>EN</td>\n",
       "      <td>0</td>\n",
       "    </tr>\n",
       "    <tr>\n",
       "      <th>4</th>\n",
       "      <td>2486</td>\n",
       "      <td>0</td>\n",
       "      <td>1784</td>\n",
       "      <td>2013-11-22</td>\n",
       "      <td>2018-10-11</td>\n",
       "      <td>4</td>\n",
       "      <td>0</td>\n",
       "      <td>EN</td>\n",
       "      <td>0</td>\n",
       "    </tr>\n",
       "  </tbody>\n",
       "</table>\n",
       "</div>"
      ],
      "text/plain": [
       "    views  mature  life_time  created_at  updated_at  numeric_id  \\\n",
       "0    7879       1        969  2016-02-16  2018-10-12           0   \n",
       "1     500       0       2699  2011-05-19  2018-10-08           1   \n",
       "2  382502       1       3149  2010-02-27  2018-10-12           2   \n",
       "3     386       0       1344  2015-01-26  2018-10-01           3   \n",
       "4    2486       0       1784  2013-11-22  2018-10-11           4   \n",
       "\n",
       "   dead_account language  affiliate  \n",
       "0             0       EN          1  \n",
       "1             0       EN          0  \n",
       "2             0       EN          1  \n",
       "3             0       EN          0  \n",
       "4             0       EN          0  "
      ]
     },
     "execution_count": 8,
     "metadata": {},
     "output_type": "execute_result"
    }
   ],
   "source": [
    "features_dataset.head()"
   ]
  },
  {
   "cell_type": "code",
   "execution_count": 9,
   "id": "549fa554",
   "metadata": {},
   "outputs": [
    {
     "data": {
      "text/html": [
       "<div>\n",
       "<style scoped>\n",
       "    .dataframe tbody tr th:only-of-type {\n",
       "        vertical-align: middle;\n",
       "    }\n",
       "\n",
       "    .dataframe tbody tr th {\n",
       "        vertical-align: top;\n",
       "    }\n",
       "\n",
       "    .dataframe thead th {\n",
       "        text-align: right;\n",
       "    }\n",
       "</style>\n",
       "<table border=\"1\" class=\"dataframe\">\n",
       "  <thead>\n",
       "    <tr style=\"text-align: right;\">\n",
       "      <th></th>\n",
       "      <th>numeric_id_1</th>\n",
       "      <th>numeric_id_2</th>\n",
       "    </tr>\n",
       "  </thead>\n",
       "  <tbody>\n",
       "    <tr>\n",
       "      <th>count</th>\n",
       "      <td>6.797557e+06</td>\n",
       "      <td>6.797557e+06</td>\n",
       "    </tr>\n",
       "    <tr>\n",
       "      <th>mean</th>\n",
       "      <td>8.382801e+04</td>\n",
       "      <td>8.401523e+04</td>\n",
       "    </tr>\n",
       "    <tr>\n",
       "      <th>std</th>\n",
       "      <td>4.820513e+04</td>\n",
       "      <td>4.852719e+04</td>\n",
       "    </tr>\n",
       "    <tr>\n",
       "      <th>min</th>\n",
       "      <td>0.000000e+00</td>\n",
       "      <td>0.000000e+00</td>\n",
       "    </tr>\n",
       "    <tr>\n",
       "      <th>25%</th>\n",
       "      <td>4.221700e+04</td>\n",
       "      <td>4.204500e+04</td>\n",
       "    </tr>\n",
       "    <tr>\n",
       "      <th>50%</th>\n",
       "      <td>8.354600e+04</td>\n",
       "      <td>8.385100e+04</td>\n",
       "    </tr>\n",
       "    <tr>\n",
       "      <th>75%</th>\n",
       "      <td>1.256420e+05</td>\n",
       "      <td>1.259570e+05</td>\n",
       "    </tr>\n",
       "    <tr>\n",
       "      <th>max</th>\n",
       "      <td>1.681120e+05</td>\n",
       "      <td>1.681130e+05</td>\n",
       "    </tr>\n",
       "  </tbody>\n",
       "</table>\n",
       "</div>"
      ],
      "text/plain": [
       "       numeric_id_1  numeric_id_2\n",
       "count  6.797557e+06  6.797557e+06\n",
       "mean   8.382801e+04  8.401523e+04\n",
       "std    4.820513e+04  4.852719e+04\n",
       "min    0.000000e+00  0.000000e+00\n",
       "25%    4.221700e+04  4.204500e+04\n",
       "50%    8.354600e+04  8.385100e+04\n",
       "75%    1.256420e+05  1.259570e+05\n",
       "max    1.681120e+05  1.681130e+05"
      ]
     },
     "execution_count": 9,
     "metadata": {},
     "output_type": "execute_result"
    }
   ],
   "source": [
    "edge_dataset.describe()"
   ]
  },
  {
   "cell_type": "markdown",
   "id": "c09ec9f9",
   "metadata": {},
   "source": [
    "**Converting Dataset to Pytorch Geometric Data**"
   ]
  },
  {
   "cell_type": "code",
   "execution_count": 10,
   "id": "bc9b0b70",
   "metadata": {},
   "outputs": [
    {
     "name": "stdout",
     "output_type": "stream",
     "text": [
      "<class 'pandas.core.frame.DataFrame'>\n",
      "RangeIndex: 168114 entries, 0 to 168113\n",
      "Data columns (total 9 columns):\n",
      " #   Column        Non-Null Count   Dtype \n",
      "---  ------        --------------   ----- \n",
      " 0   views         168114 non-null  int64 \n",
      " 1   mature        168114 non-null  int64 \n",
      " 2   life_time     168114 non-null  int64 \n",
      " 3   created_at    168114 non-null  object\n",
      " 4   updated_at    168114 non-null  object\n",
      " 5   numeric_id    168114 non-null  int64 \n",
      " 6   dead_account  168114 non-null  int64 \n",
      " 7   language      168114 non-null  object\n",
      " 8   affiliate     168114 non-null  int64 \n",
      "dtypes: int64(6), object(3)\n",
      "memory usage: 11.5+ MB\n"
     ]
    }
   ],
   "source": [
    "features_dataset.info()"
   ]
  },
  {
   "cell_type": "code",
   "execution_count": 11,
   "id": "021b8a51",
   "metadata": {},
   "outputs": [
    {
     "data": {
      "text/plain": [
       "array(['EN', 'FR', 'KO', 'JA', 'RU', 'PL', 'DE', 'ES', 'IT', 'PT',\n",
       "       'OTHER', 'TR', 'ZH', 'SV', 'NL', 'TH', 'CS', 'DA', 'HU', 'FI',\n",
       "       'NO'], dtype=object)"
      ]
     },
     "execution_count": 11,
     "metadata": {},
     "output_type": "execute_result"
    }
   ],
   "source": [
    "features_dataset['language'].unique()"
   ]
  },
  {
   "cell_type": "code",
   "execution_count": 12,
   "id": "d41f996d",
   "metadata": {},
   "outputs": [
    {
     "name": "stdout",
     "output_type": "stream",
     "text": [
      "<class 'pandas.core.frame.DataFrame'>\n",
      "RangeIndex: 168114 entries, 0 to 168113\n",
      "Data columns (total 9 columns):\n",
      " #   Column        Non-Null Count   Dtype \n",
      "---  ------        --------------   ----- \n",
      " 0   views         168114 non-null  int64 \n",
      " 1   mature        168114 non-null  int64 \n",
      " 2   life_time     168114 non-null  int64 \n",
      " 3   created_at    168114 non-null  object\n",
      " 4   updated_at    168114 non-null  object\n",
      " 5   numeric_id    168114 non-null  int64 \n",
      " 6   dead_account  168114 non-null  int64 \n",
      " 7   language      168114 non-null  int32 \n",
      " 8   affiliate     168114 non-null  int64 \n",
      "dtypes: int32(1), int64(6), object(2)\n",
      "memory usage: 10.9+ MB\n"
     ]
    }
   ],
   "source": [
    "languages = ['EN', 'FR', 'KO', 'JA', 'RU', 'PL', 'DE', 'ES', 'IT', 'PT',\n",
    "       'OTHER', 'TR', 'ZH', 'SV', 'NL', 'TH', 'CS', 'DA', 'HU', 'FI',\n",
    "       'NO']\n",
    "\n",
    "from sklearn.preprocessing import LabelEncoder\n",
    "\n",
    "def encode_df(dataframe):\n",
    "    le = LabelEncoder()\n",
    "    features_dataset['language'] = le.fit_transform(features_dataset['language'])\n",
    "    return dataframe\n",
    "\n",
    "#encode the dataframe\n",
    "features_dataset = encode_df(features_dataset)\n",
    "features_dataset.info()"
   ]
  },
  {
   "cell_type": "code",
   "execution_count": 13,
   "id": "dae6f083",
   "metadata": {},
   "outputs": [],
   "source": [
    "node_features = features_dataset[[\"numeric_id\"]]"
   ]
  },
  {
   "cell_type": "code",
   "execution_count": 14,
   "id": "d1fbd53d",
   "metadata": {},
   "outputs": [
    {
     "data": {
      "text/html": [
       "<div>\n",
       "<style scoped>\n",
       "    .dataframe tbody tr th:only-of-type {\n",
       "        vertical-align: middle;\n",
       "    }\n",
       "\n",
       "    .dataframe tbody tr th {\n",
       "        vertical-align: top;\n",
       "    }\n",
       "\n",
       "    .dataframe thead th {\n",
       "        text-align: right;\n",
       "    }\n",
       "</style>\n",
       "<table border=\"1\" class=\"dataframe\">\n",
       "  <thead>\n",
       "    <tr style=\"text-align: right;\">\n",
       "      <th></th>\n",
       "      <th>numeric_id</th>\n",
       "    </tr>\n",
       "  </thead>\n",
       "  <tbody>\n",
       "    <tr>\n",
       "      <th>0</th>\n",
       "      <td>0</td>\n",
       "    </tr>\n",
       "    <tr>\n",
       "      <th>1</th>\n",
       "      <td>1</td>\n",
       "    </tr>\n",
       "    <tr>\n",
       "      <th>2</th>\n",
       "      <td>2</td>\n",
       "    </tr>\n",
       "    <tr>\n",
       "      <th>3</th>\n",
       "      <td>3</td>\n",
       "    </tr>\n",
       "    <tr>\n",
       "      <th>4</th>\n",
       "      <td>4</td>\n",
       "    </tr>\n",
       "  </tbody>\n",
       "</table>\n",
       "</div>"
      ],
      "text/plain": [
       "   numeric_id\n",
       "0           0\n",
       "1           1\n",
       "2           2\n",
       "3           3\n",
       "4           4"
      ]
     },
     "execution_count": 14,
     "metadata": {},
     "output_type": "execute_result"
    }
   ],
   "source": [
    "# node_features['created_at'] = pd.to_datetime(node_features['created_at']).astype('int64')/ 10**9\n",
    "# node_features['updated_at'] = pd.to_datetime(node_features['updated_at']).astype('int64')/ 10**9\n",
    "node_features.head()"
   ]
  },
  {
   "cell_type": "code",
   "execution_count": 15,
   "id": "b7c64d5a",
   "metadata": {},
   "outputs": [
    {
     "name": "stdout",
     "output_type": "stream",
     "text": [
      "<class 'pandas.core.frame.DataFrame'>\n",
      "RangeIndex: 168114 entries, 0 to 168113\n",
      "Data columns (total 1 columns):\n",
      " #   Column      Non-Null Count   Dtype  \n",
      "---  ------      --------------   -----  \n",
      " 0   numeric_id  168114 non-null  float32\n",
      "dtypes: float32(1)\n",
      "memory usage: 656.8 KB\n"
     ]
    }
   ],
   "source": [
    "node_features = node_features.astype('float32')\n",
    "node_features.info()"
   ]
  },
  {
   "cell_type": "code",
   "execution_count": 16,
   "id": "8e38b9e7",
   "metadata": {},
   "outputs": [
    {
     "data": {
      "text/plain": [
       "torch.Size([168114, 1])"
      ]
     },
     "execution_count": 16,
     "metadata": {},
     "output_type": "execute_result"
    }
   ],
   "source": [
    "x =  torch.from_numpy(node_features.to_numpy())\n",
    "x.shape # [num_nodes x num_features]"
   ]
  },
  {
   "cell_type": "code",
   "execution_count": 17,
   "id": "eb31b92c",
   "metadata": {},
   "outputs": [
    {
     "data": {
      "text/plain": [
       "torch.float32"
      ]
     },
     "execution_count": 17,
     "metadata": {},
     "output_type": "execute_result"
    }
   ],
   "source": [
    "x.dtype"
   ]
  },
  {
   "cell_type": "code",
   "execution_count": 18,
   "id": "cd671e23",
   "metadata": {},
   "outputs": [
    {
     "name": "stdout",
     "output_type": "stream",
     "text": [
      "<class 'pandas.core.frame.DataFrame'>\n",
      "RangeIndex: 168114 entries, 0 to 168113\n",
      "Data columns (total 3 columns):\n",
      " #   Column        Non-Null Count   Dtype\n",
      "---  ------        --------------   -----\n",
      " 0   dead_account  168114 non-null  int64\n",
      " 1   language      168114 non-null  int64\n",
      " 2   affiliate     168114 non-null  int64\n",
      "dtypes: int64(3)\n",
      "memory usage: 3.8 MB\n"
     ]
    }
   ],
   "source": [
    "features_dataset[[\"dead_account\",\"language\",\"affiliate\"]] = features_dataset[[\"dead_account\",\"language\",\"affiliate\"]].astype('int64')\n",
    "features_dataset[[\"dead_account\",\"language\",\"affiliate\"]].info()"
   ]
  },
  {
   "cell_type": "code",
   "execution_count": 19,
   "id": "00101df7",
   "metadata": {},
   "outputs": [
    {
     "data": {
      "text/plain": [
       "torch.Size([168114, 1])"
      ]
     },
     "execution_count": 19,
     "metadata": {},
     "output_type": "execute_result"
    }
   ],
   "source": [
    "# Select node features\n",
    "labels = features_dataset[[\"dead_account\"]]\n",
    "labels.head()\n",
    "\n",
    "# labels = labels.astype(float)\n",
    "\n",
    "# Convert to numpy\n",
    "y =  torch.from_numpy(labels.to_numpy())\n",
    "y.shape # [num_nodes, 1] --> node regression"
   ]
  },
  {
   "cell_type": "code",
   "execution_count": 20,
   "id": "890fbe06",
   "metadata": {},
   "outputs": [],
   "source": [
    "y = y.reshape(-1,)"
   ]
  },
  {
   "cell_type": "code",
   "execution_count": 21,
   "id": "a6d14119",
   "metadata": {},
   "outputs": [
    {
     "data": {
      "text/plain": [
       "torch.Size([168114])"
      ]
     },
     "execution_count": 21,
     "metadata": {},
     "output_type": "execute_result"
    }
   ],
   "source": [
    "y.shape"
   ]
  },
  {
   "cell_type": "code",
   "execution_count": 22,
   "id": "d23129e4",
   "metadata": {},
   "outputs": [
    {
     "data": {
      "text/plain": [
       "dead_account    int64\n",
       "dtype: object"
      ]
     },
     "execution_count": 22,
     "metadata": {},
     "output_type": "execute_result"
    }
   ],
   "source": [
    "labels.dtypes"
   ]
  },
  {
   "cell_type": "code",
   "execution_count": 23,
   "id": "a8e149ce",
   "metadata": {},
   "outputs": [],
   "source": [
    "edge_dataset = edge_dataset.astype('int64')"
   ]
  },
  {
   "cell_type": "code",
   "execution_count": 24,
   "id": "9ebdaa23",
   "metadata": {},
   "outputs": [
    {
     "data": {
      "text/plain": [
       "numeric_id_1    int64\n",
       "numeric_id_2    int64\n",
       "dtype: object"
      ]
     },
     "execution_count": 24,
     "metadata": {},
     "output_type": "execute_result"
    }
   ],
   "source": [
    "edge_dataset.dtypes"
   ]
  },
  {
   "cell_type": "code",
   "execution_count": 25,
   "id": "dd3885c4",
   "metadata": {},
   "outputs": [],
   "source": [
    "edge_dataset = edge_dataset.sort_values(by=['numeric_id_1'])"
   ]
  },
  {
   "cell_type": "code",
   "execution_count": 26,
   "id": "79060b42",
   "metadata": {},
   "outputs": [],
   "source": [
    "edge_index = edge_dataset.transpose()"
   ]
  },
  {
   "cell_type": "code",
   "execution_count": 27,
   "id": "c2f93342",
   "metadata": {},
   "outputs": [
    {
     "data": {
      "text/plain": [
       "array([dtype('int64')], dtype=object)"
      ]
     },
     "execution_count": 27,
     "metadata": {},
     "output_type": "execute_result"
    }
   ],
   "source": [
    "edge_index.dtypes.unique()"
   ]
  },
  {
   "cell_type": "code",
   "execution_count": 28,
   "id": "1e3b210b",
   "metadata": {},
   "outputs": [
    {
     "name": "stdout",
     "output_type": "stream",
     "text": [
      "torch.Size([2, 6797557])\n"
     ]
    }
   ],
   "source": [
    "all_edges =  torch.from_numpy(edge_index.to_numpy()) # [2, num_edges]\n",
    "print(all_edges.shape)"
   ]
  },
  {
   "cell_type": "code",
   "execution_count": 29,
   "id": "fde2422b",
   "metadata": {},
   "outputs": [
    {
     "data": {
      "text/plain": [
       "tensor([[     0,      0,      0,  ..., 168112, 168112, 168112],\n",
       "        [ 10464,  59443, 151601,  ...,  77866,  95086,  12740]])"
      ]
     },
     "execution_count": 29,
     "metadata": {},
     "output_type": "execute_result"
    }
   ],
   "source": [
    "all_edges"
   ]
  },
  {
   "cell_type": "code",
   "execution_count": 30,
   "id": "a19af33c",
   "metadata": {},
   "outputs": [
    {
     "data": {
      "text/plain": [
       "168114"
      ]
     },
     "execution_count": 30,
     "metadata": {},
     "output_type": "execute_result"
    }
   ],
   "source": [
    "len(features_dataset)"
   ]
  },
  {
   "cell_type": "code",
   "execution_count": 31,
   "id": "2a27ac04",
   "metadata": {},
   "outputs": [],
   "source": [
    "train_arr = np.array([True for i in range(round(len(features_dataset)*0.85))])"
   ]
  },
  {
   "cell_type": "code",
   "execution_count": 32,
   "id": "fab66e93",
   "metadata": {},
   "outputs": [],
   "source": [
    "train_arr = np.append(train_arr,np.array([False for i in range(int(len(features_dataset)*0.15))]))"
   ]
  },
  {
   "cell_type": "code",
   "execution_count": 33,
   "id": "99144b5c",
   "metadata": {},
   "outputs": [
    {
     "data": {
      "text/plain": [
       "(168114,)"
      ]
     },
     "execution_count": 33,
     "metadata": {},
     "output_type": "execute_result"
    }
   ],
   "source": [
    "train_arr.shape"
   ]
  },
  {
   "cell_type": "code",
   "execution_count": 34,
   "id": "ce9707b4",
   "metadata": {},
   "outputs": [],
   "source": [
    "test_arr = np.array([False for i in range(round(len(features_dataset)*0.55))])\n",
    "test_arr = np.append(test_arr,np.array([True for i in range(int(len(features_dataset)*0.45))]))"
   ]
  },
  {
   "cell_type": "code",
   "execution_count": 35,
   "id": "45e80d9d",
   "metadata": {},
   "outputs": [
    {
     "data": {
      "text/plain": [
       "(168114,)"
      ]
     },
     "execution_count": 35,
     "metadata": {},
     "output_type": "execute_result"
    }
   ],
   "source": [
    "test_arr.shape"
   ]
  },
  {
   "cell_type": "code",
   "execution_count": 36,
   "id": "16ad977e",
   "metadata": {},
   "outputs": [],
   "source": [
    "val_arr = np.array([False for i in range(round(len(features_dataset)*0.35))])\n",
    "val_arr = np.append(val_arr,np.array([True for i in range(round(len(features_dataset)*0.35))]))\n",
    "val_arr = np.append(val_arr,np.array([False for i in range(int(len(features_dataset)*0.30))]))"
   ]
  },
  {
   "cell_type": "code",
   "execution_count": 37,
   "id": "c81b1f5f",
   "metadata": {},
   "outputs": [
    {
     "data": {
      "text/plain": [
       "(168114,)"
      ]
     },
     "execution_count": 37,
     "metadata": {},
     "output_type": "execute_result"
    }
   ],
   "source": [
    "val_arr.shape"
   ]
  },
  {
   "cell_type": "code",
   "execution_count": 38,
   "id": "49f54881",
   "metadata": {},
   "outputs": [],
   "source": [
    "train_mask = torch.from_numpy(train_arr)\n",
    "test_mask = torch.from_numpy(test_arr)\n",
    "val_mask = torch.from_numpy(val_arr)"
   ]
  },
  {
   "cell_type": "code",
   "execution_count": 39,
   "id": "3ada7c40",
   "metadata": {},
   "outputs": [],
   "source": [
    "from torch_geometric.data import Data\n",
    "data = Data(x=x, edge_index=all_edges, y=y)"
   ]
  },
  {
   "cell_type": "code",
   "execution_count": 40,
   "id": "0e78d0e7",
   "metadata": {},
   "outputs": [
    {
     "data": {
      "text/plain": [
       "Data(x=[168114, 1], edge_index=[2, 6797557], y=[168114])"
      ]
     },
     "execution_count": 40,
     "metadata": {},
     "output_type": "execute_result"
    }
   ],
   "source": [
    "data"
   ]
  },
  {
   "cell_type": "code",
   "execution_count": 41,
   "id": "a4e398a5",
   "metadata": {},
   "outputs": [],
   "source": [
    "data.num_classes = 2\n",
    "data.train_mask = train_mask\n",
    "data.test_mask = test_mask\n",
    "data.val_mask = val_mask"
   ]
  },
  {
   "cell_type": "code",
   "execution_count": 42,
   "id": "7f94fd77",
   "metadata": {},
   "outputs": [
    {
     "data": {
      "text/plain": [
       "Data(x=[168114, 1], edge_index=[2, 6797557], y=[168114], num_classes=2, train_mask=[168114], test_mask=[168114], val_mask=[168114])"
      ]
     },
     "execution_count": 42,
     "metadata": {},
     "output_type": "execute_result"
    }
   ],
   "source": [
    "data"
   ]
  },
  {
   "cell_type": "code",
   "execution_count": 43,
   "id": "609ea866",
   "metadata": {},
   "outputs": [],
   "source": [
    "import os\n",
    "os.environ[\"PYTORCH_CUDA_ALLOC_CONF\"] = \"max_split_size_mb:1024\""
   ]
  },
  {
   "cell_type": "code",
   "execution_count": 44,
   "id": "ff4f32a0",
   "metadata": {},
   "outputs": [],
   "source": [
    "# import torch_geometric\n",
    "# from torch_geometric.utils.convert import to_networkx\n",
    "# import networkx as nx\n",
    "# import matplotlib.pyplot as plt\n",
    "\n",
    "# plt.figure(figsize=(10, 10))\n",
    "# twitch_gamers = torch_geometric.data.Data(x=data.x[:500], edge_index=data.edge_index[:500])\n",
    "# # g = torch_geometric.utils.to_networkx(twitch_gamers, to_undirected=True)\n",
    "# twitchgraph = to_networkx(twitch_gamers)\n",
    "# node_labels = data.y[list(twitchgraph.nodes)].numpy()\n",
    "# nx.draw(g, cmap=plt.get_cmap('Set1'),node_color = node_labels,node_size=75,linewidths=6)"
   ]
  },
  {
   "cell_type": "markdown",
   "id": "7b40b183",
   "metadata": {},
   "source": [
    "Live Account / Dead Account Classification"
   ]
  },
  {
   "cell_type": "code",
   "execution_count": 45,
   "id": "59d7b3ae",
   "metadata": {},
   "outputs": [
    {
     "name": "stdout",
     "output_type": "stream",
     "text": [
      "Data(x=[168114, 1], edge_index=[2, 6797557], y=[168114], num_classes=2, train_mask=[168114], test_mask=[168114], val_mask=[168114])\n",
      "number of graphs:\t\t 7\n",
      "number of classes:\t\t 2\n",
      "number of classes:\t\t [0 1]\n",
      "number of node features:\t 1\n",
      "number of edge features:\t 0\n",
      "X shape:  torch.Size([168114, 1])\n",
      "Edge shape:  torch.Size([2, 6797557])\n",
      "Y shape:  torch.Size([168114])\n"
     ]
    }
   ],
   "source": [
    "print(data)\n",
    "print(\"number of graphs:\\t\\t\",len(data))\n",
    "print(\"number of classes:\\t\\t\",data.num_classes)\n",
    "print(\"number of classes:\\t\\t\",np.unique(data.y))\n",
    "print(\"number of node features:\\t\",data.num_node_features)\n",
    "print(\"number of edge features:\\t\",data.num_edge_features)\n",
    "print(\"X shape: \", data.x.shape)\n",
    "print(\"Edge shape: \", data.edge_index.shape)\n",
    "print(\"Y shape: \", data.y.shape)"
   ]
  },
  {
   "cell_type": "code",
   "execution_count": 46,
   "id": "322b4ce9",
   "metadata": {},
   "outputs": [
    {
     "name": "stdout",
     "output_type": "stream",
     "text": [
      "Graph Convolutional Network (GCN):\n"
     ]
    },
    {
     "data": {
      "text/plain": [
       "GCN(\n",
       "  (conv1): GCNConv(1, 16)\n",
       "  (conv2): GCNConv(16, 2)\n",
       ")"
      ]
     },
     "execution_count": 46,
     "metadata": {},
     "output_type": "execute_result"
    }
   ],
   "source": [
    "device = torch.device('cuda' if torch.cuda.is_available() else 'cpu')\n",
    "\n",
    "class GCN(torch.nn.Module):\n",
    "    def __init__(self):\n",
    "        super().__init__()\n",
    "        self.conv1 = GCNConv(data.num_node_features, 16)\n",
    "        self.conv2 = GCNConv(16, data.num_classes)   \n",
    "    \n",
    "    def forward(self, data):\n",
    "        # x: Node feature matrix \n",
    "        # edge_index: Graph connectivity matrix        \n",
    "        x, edge_index = data.x, data.edge_index\n",
    "        x = self.conv1(x, edge_index)\n",
    "        x = F.relu(x)\n",
    "        x = F.dropout(x, training=self.training)\n",
    "        x = self.conv2(x, edge_index)\n",
    "        \n",
    "        return F.log_softmax(x, dim=1)\n",
    "\n",
    "model = GCN().to(device)\n",
    "data = data.to(device)\n",
    "optimizer = torch.optim.Adam(model.parameters(), lr=0.01, weight_decay=5e-4)\n",
    "print(\"Graph Convolutional Network (GCN):\")\n",
    "GCN()"
   ]
  },
  {
   "cell_type": "code",
   "execution_count": 47,
   "id": "7924488e",
   "metadata": {},
   "outputs": [],
   "source": [
    "# useful function for computing accuracy\n",
    "def compute_accuracy(pred_y, y):\n",
    "    return (pred_y == y).sum()"
   ]
  },
  {
   "cell_type": "code",
   "execution_count": 48,
   "id": "d61b8bbc",
   "metadata": {},
   "outputs": [
    {
     "name": "stdout",
     "output_type": "stream",
     "text": [
      "Epoch: 10, Loss: 294.2742, Training Acc: 0.9561\n",
      "Epoch: 20, Loss: 154.2151, Training Acc: 0.9515\n",
      "Epoch: 30, Loss: 73.0423, Training Acc: 0.9361\n",
      "Epoch: 40, Loss: 22.4700, Training Acc: 0.9579\n",
      "Epoch: 50, Loss: 9.0745, Training Acc: 0.9572\n",
      "Epoch: 60, Loss: 5.3297, Training Acc: 0.9651\n",
      "Epoch: 70, Loss: 43.7609, Training Acc: 0.9695\n",
      "Epoch: 80, Loss: 29.0569, Training Acc: 0.9695\n",
      "Epoch: 90, Loss: 12.0303, Training Acc: 0.9695\n",
      "Epoch: 100, Loss: 43.3903, Training Acc: 0.9695\n",
      "Epoch: 110, Loss: 91.1746, Training Acc: 0.9695\n",
      "Epoch: 120, Loss: 39.9148, Training Acc: 0.9680\n",
      "Epoch: 130, Loss: 12.3479, Training Acc: 0.8967\n",
      "Epoch: 140, Loss: 3.7884, Training Acc: 0.9574\n",
      "Epoch: 150, Loss: 0.3986, Training Acc: 0.9695\n",
      "Epoch: 160, Loss: 0.4519, Training Acc: 0.9695\n",
      "Epoch: 170, Loss: 0.3472, Training Acc: 0.9695\n",
      "Epoch: 180, Loss: 0.2765, Training Acc: 0.9695\n",
      "Epoch: 190, Loss: 0.2331, Training Acc: 0.9695\n",
      "Epoch: 200, Loss: 0.2063, Training Acc: 0.9695\n"
     ]
    }
   ],
   "source": [
    "# train the model\n",
    "model.train()\n",
    "losses = []\n",
    "accuracies = []\n",
    "epoch_stable = []\n",
    "for epoch in range(200):\n",
    "    optimizer.zero_grad()\n",
    "    out = model(data)\n",
    "    loss = F.nll_loss(out[data.train_mask], data.y[data.train_mask])\n",
    "    correct = compute_accuracy(out.argmax(dim=1)[data.train_mask], data.y[data.train_mask])\n",
    "    acc = int(correct) / int(data.train_mask.sum())\n",
    "    losses.append(loss.item())\n",
    "    accuracies.append(acc*100)\n",
    "    loss.backward()\n",
    "    optimizer.step()\n",
    "    if (epoch+1) % 10 == 0:\n",
    "        print('Epoch: {}, Loss: {:.4f}, Training Acc: {:.4f}'.format(epoch+1, loss.item(), acc))"
   ]
  },
  {
   "cell_type": "code",
   "execution_count": 49,
   "id": "16472b4b",
   "metadata": {},
   "outputs": [
    {
     "name": "stdout",
     "output_type": "stream",
     "text": [
      "Accuracy: 0.9694\n"
     ]
    }
   ],
   "source": [
    "model.eval()\n",
    "pred = model(data).argmax(dim=1)\n",
    "correct = compute_accuracy(pred[data.test_mask], data.y[data.test_mask])\n",
    "acc = int(correct) / int(data.test_mask.sum())\n",
    "print(f'Accuracy: {acc:.4f}')"
   ]
  },
  {
   "cell_type": "code",
   "execution_count": 50,
   "id": "12243976",
   "metadata": {},
   "outputs": [],
   "source": [
    "torch.cuda.empty_cache()"
   ]
  },
  {
   "cell_type": "code",
   "execution_count": 62,
   "id": "70b5c450",
   "metadata": {},
   "outputs": [
    {
     "name": "stdout",
     "output_type": "stream",
     "text": [
      "SAGE Graph Convolutional Network (GCN):\n"
     ]
    },
    {
     "data": {
      "text/plain": [
       "SAGECN(\n",
       "  (conv1): SAGEConv(1, 16, aggr=mean)\n",
       "  (conv2): SAGEConv(16, 2, aggr=mean)\n",
       ")"
      ]
     },
     "execution_count": 62,
     "metadata": {},
     "output_type": "execute_result"
    }
   ],
   "source": [
    "device = torch.device('cuda' if torch.cuda.is_available() else 'cpu')\n",
    "\n",
    "class SAGECN(torch.nn.Module):\n",
    "    def __init__(self):\n",
    "        super().__init__()\n",
    "        self.conv1 = SAGEConv(data.num_node_features, 16)\n",
    "        self.conv2 = SAGEConv(16, data.num_classes)   \n",
    "    \n",
    "    def forward(self, data):\n",
    "        # x: Node feature matrix \n",
    "        # edge_index: Graph connectivity matrix        \n",
    "        x, edge_index = data.x, data.edge_index\n",
    "        x = self.conv1(x, edge_index)\n",
    "        x = F.relu(x)\n",
    "        x = F.dropout(x, training=self.training)\n",
    "        x = self.conv2(x, edge_index)\n",
    "        \n",
    "        return F.log_softmax(x, dim=1)\n",
    "\n",
    "model = SAGECN().to(device)\n",
    "data = data.to(device)\n",
    "optimizer = torch.optim.Adam(model.parameters(), lr=0.01, weight_decay=5e-4)\n",
    "print(\"SAGE Graph Convolutional Network (GCN):\")\n",
    "SAGECN()"
   ]
  },
  {
   "cell_type": "code",
   "execution_count": 63,
   "id": "0fb133c1",
   "metadata": {},
   "outputs": [
    {
     "name": "stdout",
     "output_type": "stream",
     "text": [
      "Epoch: 10, Loss: 1330.0488, Training Acc: 0.9433\n",
      "Epoch: 20, Loss: 331.9142, Training Acc: 0.9086\n",
      "Epoch: 30, Loss: 137.7535, Training Acc: 0.9354\n",
      "Epoch: 40, Loss: 51.6706, Training Acc: 0.9099\n",
      "Epoch: 50, Loss: 334.5307, Training Acc: 0.9694\n",
      "Epoch: 60, Loss: 168.1728, Training Acc: 0.9685\n",
      "Epoch: 70, Loss: 229.1092, Training Acc: 0.9693\n",
      "Epoch: 80, Loss: 85.1866, Training Acc: 0.9605\n",
      "Epoch: 90, Loss: 49.0361, Training Acc: 0.9691\n",
      "Epoch: 100, Loss: 88.9890, Training Acc: 0.9669\n",
      "Epoch: 110, Loss: 26.7843, Training Acc: 0.9689\n",
      "Epoch: 120, Loss: 39.7027, Training Acc: 0.9463\n",
      "Epoch: 130, Loss: 48.2361, Training Acc: 0.8451\n",
      "Epoch: 140, Loss: 33.4130, Training Acc: 0.6131\n",
      "Epoch: 150, Loss: 29.0949, Training Acc: 0.9525\n",
      "Epoch: 160, Loss: 26.7401, Training Acc: 0.9687\n",
      "Epoch: 170, Loss: 53.0635, Training Acc: 0.9682\n",
      "Epoch: 180, Loss: 36.8511, Training Acc: 0.9662\n",
      "Epoch: 190, Loss: 10.6977, Training Acc: 0.9654\n",
      "Epoch: 200, Loss: 1.8517, Training Acc: 0.9609\n"
     ]
    }
   ],
   "source": [
    "# train the model\n",
    "model.train()\n",
    "losses = []\n",
    "accuracies = []\n",
    "epoch_stable = []\n",
    "for epoch in range(200):\n",
    "    optimizer.zero_grad()\n",
    "    out = model(data)\n",
    "    loss = F.nll_loss(out[data.train_mask], data.y[data.train_mask])\n",
    "    correct = compute_accuracy(out.argmax(dim=1)[data.train_mask], data.y[data.train_mask])\n",
    "    acc = int(correct) / int(data.train_mask.sum())\n",
    "    losses.append(loss.item())\n",
    "    accuracies.append(acc*100)\n",
    "    loss.backward()\n",
    "    optimizer.step()\n",
    "    if (epoch+1) % 10 == 0:\n",
    "        print('Epoch: {}, Loss: {:.4f}, Training Acc: {:.4f}'.format(epoch+1, loss.item(), acc))"
   ]
  },
  {
   "cell_type": "code",
   "execution_count": 64,
   "id": "a9e5ad84",
   "metadata": {},
   "outputs": [
    {
     "name": "stdout",
     "output_type": "stream",
     "text": [
      "Accuracy: 0.9694\n"
     ]
    }
   ],
   "source": [
    "model.eval()\n",
    "pred = model(data).argmax(dim=1)\n",
    "correct = compute_accuracy(pred[data.test_mask], data.y[data.test_mask])\n",
    "acc = int(correct) / int(data.test_mask.sum())\n",
    "print(f'Accuracy: {acc:.4f}')"
   ]
  },
  {
   "cell_type": "code",
   "execution_count": 70,
   "id": "ae5b89d0",
   "metadata": {},
   "outputs": [
    {
     "name": "stdout",
     "output_type": "stream",
     "text": [
      "Graph Attention Network (GCN):\n"
     ]
    },
    {
     "data": {
      "text/plain": [
       "GATCN(\n",
       "  (conv1): GATConv(1, 16, heads=1)\n",
       "  (conv2): GATConv(16, 2, heads=1)\n",
       ")"
      ]
     },
     "execution_count": 70,
     "metadata": {},
     "output_type": "execute_result"
    }
   ],
   "source": [
    "device = torch.device('cuda' if torch.cuda.is_available() else 'cpu')\n",
    "\n",
    "class GATCN(torch.nn.Module):\n",
    "    def __init__(self):\n",
    "        super().__init__()\n",
    "        self.conv1 = GATConv(data.num_node_features, 16)\n",
    "        self.conv2 = GATConv(16, data.num_classes)   \n",
    "    \n",
    "    def forward(self, data):\n",
    "        # x: Node feature matrix \n",
    "        # edge_index: Graph connectivity matrix        \n",
    "        x, edge_index = data.x, data.edge_index\n",
    "        x = self.conv1(x, edge_index)\n",
    "        x = F.relu(x)\n",
    "        x = F.dropout(x, training=self.training)\n",
    "        x = self.conv2(x, edge_index)\n",
    "        \n",
    "        return F.log_softmax(x, dim=1)\n",
    "\n",
    "model = GATCN().to(device)\n",
    "data = data.to(device)\n",
    "optimizer = torch.optim.Adam(model.parameters(), lr=0.01, weight_decay=5e-4)\n",
    "print(\"Graph Attention Network (GCN):\")\n",
    "GATCN()"
   ]
  },
  {
   "cell_type": "code",
   "execution_count": 71,
   "id": "2edc3ae2",
   "metadata": {},
   "outputs": [
    {
     "name": "stdout",
     "output_type": "stream",
     "text": [
      "Epoch: 10, Loss: 2900.1421, Training Acc: 0.6705\n",
      "Epoch: 20, Loss: 545.3464, Training Acc: 0.9397\n",
      "Epoch: 30, Loss: 581.8926, Training Acc: 0.9533\n",
      "Epoch: 40, Loss: 561.6147, Training Acc: 0.9579\n",
      "Epoch: 50, Loss: 461.3360, Training Acc: 0.9448\n",
      "Epoch: 60, Loss: 426.4019, Training Acc: 0.9590\n",
      "Epoch: 70, Loss: 363.1548, Training Acc: 0.9576\n",
      "Epoch: 80, Loss: 359.2078, Training Acc: 0.9507\n",
      "Epoch: 90, Loss: 240.9288, Training Acc: 0.9465\n",
      "Epoch: 100, Loss: 223.1491, Training Acc: 0.9591\n",
      "Epoch: 110, Loss: 141.5525, Training Acc: 0.9561\n",
      "Epoch: 120, Loss: 90.5152, Training Acc: 0.9329\n",
      "Epoch: 130, Loss: 119.1024, Training Acc: 0.9075\n",
      "Epoch: 140, Loss: 79.0528, Training Acc: 0.9450\n",
      "Epoch: 150, Loss: 61.8010, Training Acc: 0.9624\n",
      "Epoch: 160, Loss: 54.9426, Training Acc: 0.8502\n",
      "Epoch: 170, Loss: 64.1227, Training Acc: 0.9162\n",
      "Epoch: 180, Loss: 55.0258, Training Acc: 0.9190\n",
      "Epoch: 190, Loss: 42.0996, Training Acc: 0.9649\n",
      "Epoch: 200, Loss: 42.3579, Training Acc: 0.9665\n"
     ]
    }
   ],
   "source": [
    "# train the model\n",
    "model.train()\n",
    "losses = []\n",
    "accuracies = []\n",
    "epoch_stable = []\n",
    "for epoch in range(200):\n",
    "    optimizer.zero_grad()\n",
    "    out = model(data)\n",
    "    loss = F.nll_loss(out[data.train_mask], data.y[data.train_mask])\n",
    "    correct = compute_accuracy(out.argmax(dim=1)[data.train_mask], data.y[data.train_mask])\n",
    "    acc = int(correct) / int(data.train_mask.sum())\n",
    "    losses.append(loss.item())\n",
    "    accuracies.append(acc*100)\n",
    "    loss.backward()\n",
    "    optimizer.step()\n",
    "    if (epoch+1) % 10 == 0:\n",
    "        print('Epoch: {}, Loss: {:.4f}, Training Acc: {:.4f}'.format(epoch+1, loss.item(), acc))"
   ]
  },
  {
   "cell_type": "code",
   "execution_count": 72,
   "id": "a01d6cf3",
   "metadata": {},
   "outputs": [
    {
     "name": "stdout",
     "output_type": "stream",
     "text": [
      "Accuracy: 0.9694\n"
     ]
    }
   ],
   "source": [
    "model.eval()\n",
    "pred = model(data).argmax(dim=1)\n",
    "correct = compute_accuracy(pred[data.test_mask], data.y[data.test_mask])\n",
    "acc = int(correct) / int(data.test_mask.sum())\n",
    "print(f'Accuracy: {acc:.4f}')"
   ]
  },
  {
   "cell_type": "markdown",
   "id": "34db0557",
   "metadata": {},
   "source": [
    "Language Classification"
   ]
  },
  {
   "cell_type": "code",
   "execution_count": 73,
   "id": "ffda4dbd",
   "metadata": {},
   "outputs": [
    {
     "data": {
      "text/plain": [
       "torch.Size([168114, 1])"
      ]
     },
     "execution_count": 73,
     "metadata": {},
     "output_type": "execute_result"
    }
   ],
   "source": [
    "# Select node features\n",
    "labels = features_dataset[[\"language\"]]\n",
    "labels.head()\n",
    "\n",
    "# labels = labels.astype(float)\n",
    "\n",
    "# Convert to numpy\n",
    "y =  torch.from_numpy(labels.to_numpy())\n",
    "y.shape # [num_nodes, 1] --> node regression"
   ]
  },
  {
   "cell_type": "code",
   "execution_count": 74,
   "id": "632c56f8",
   "metadata": {},
   "outputs": [],
   "source": [
    "y = y.reshape(-1,)"
   ]
  },
  {
   "cell_type": "code",
   "execution_count": 75,
   "id": "9eabf92b",
   "metadata": {},
   "outputs": [
    {
     "data": {
      "text/plain": [
       "torch.Size([168114])"
      ]
     },
     "execution_count": 75,
     "metadata": {},
     "output_type": "execute_result"
    }
   ],
   "source": [
    "y.shape"
   ]
  },
  {
   "cell_type": "code",
   "execution_count": 76,
   "id": "c72d5fb3",
   "metadata": {},
   "outputs": [
    {
     "data": {
      "text/plain": [
       "language    int64\n",
       "dtype: object"
      ]
     },
     "execution_count": 76,
     "metadata": {},
     "output_type": "execute_result"
    }
   ],
   "source": [
    "labels.dtypes"
   ]
  },
  {
   "cell_type": "code",
   "execution_count": 77,
   "id": "e871279e",
   "metadata": {},
   "outputs": [],
   "source": [
    "from torch_geometric.data import Data\n",
    "data = Data(x=x, edge_index=all_edges, y=y)"
   ]
  },
  {
   "cell_type": "code",
   "execution_count": 78,
   "id": "f16d06a6",
   "metadata": {},
   "outputs": [
    {
     "data": {
      "text/plain": [
       "Data(x=[168114, 1], edge_index=[2, 6797557], y=[168114])"
      ]
     },
     "execution_count": 78,
     "metadata": {},
     "output_type": "execute_result"
    }
   ],
   "source": [
    "data"
   ]
  },
  {
   "cell_type": "code",
   "execution_count": 79,
   "id": "31ca9480",
   "metadata": {},
   "outputs": [],
   "source": [
    "data.num_classes = 21\n",
    "data.train_mask = train_mask\n",
    "data.test_mask = test_mask\n",
    "data.val_mask = val_mask"
   ]
  },
  {
   "cell_type": "code",
   "execution_count": 80,
   "id": "20a49d9e",
   "metadata": {},
   "outputs": [
    {
     "data": {
      "text/plain": [
       "Data(x=[168114, 1], edge_index=[2, 6797557], y=[168114], num_classes=21, train_mask=[168114], test_mask=[168114], val_mask=[168114])"
      ]
     },
     "execution_count": 80,
     "metadata": {},
     "output_type": "execute_result"
    }
   ],
   "source": [
    "data"
   ]
  },
  {
   "cell_type": "code",
   "execution_count": 81,
   "id": "573def05",
   "metadata": {},
   "outputs": [
    {
     "name": "stdout",
     "output_type": "stream",
     "text": [
      "Data(x=[168114, 1], edge_index=[2, 6797557], y=[168114], num_classes=21, train_mask=[168114], test_mask=[168114], val_mask=[168114])\n",
      "number of graphs:\t\t 7\n",
      "number of classes:\t\t 21\n",
      "number of classes:\t\t [ 0  1  2  3  4  5  6  7  8  9 10 11 12 13 14 15 16 17 18 19 20]\n",
      "number of node features:\t 1\n",
      "number of edge features:\t 0\n",
      "X shape:  torch.Size([168114, 1])\n",
      "Edge shape:  torch.Size([2, 6797557])\n",
      "Y shape:  torch.Size([168114])\n"
     ]
    }
   ],
   "source": [
    "print(data)\n",
    "print(\"number of graphs:\\t\\t\",len(data))\n",
    "print(\"number of classes:\\t\\t\",data.num_classes)\n",
    "print(\"number of classes:\\t\\t\",np.unique(data.y))\n",
    "print(\"number of node features:\\t\",data.num_node_features)\n",
    "print(\"number of edge features:\\t\",data.num_edge_features)\n",
    "print(\"X shape: \", data.x.shape)\n",
    "print(\"Edge shape: \", data.edge_index.shape)\n",
    "print(\"Y shape: \", data.y.shape)"
   ]
  },
  {
   "cell_type": "code",
   "execution_count": 82,
   "id": "6600f042",
   "metadata": {},
   "outputs": [
    {
     "name": "stdout",
     "output_type": "stream",
     "text": [
      "Graph Convolutional Network (GCN):\n"
     ]
    },
    {
     "data": {
      "text/plain": [
       "GCN(\n",
       "  (conv1): GCNConv(1, 16)\n",
       "  (conv2): GCNConv(16, 21)\n",
       ")"
      ]
     },
     "execution_count": 82,
     "metadata": {},
     "output_type": "execute_result"
    }
   ],
   "source": [
    "device = torch.device('cuda' if torch.cuda.is_available() else 'cpu')\n",
    "\n",
    "class GCN(torch.nn.Module):\n",
    "    def __init__(self):\n",
    "        super().__init__()\n",
    "        self.conv1 = GCNConv(data.num_node_features, 16)\n",
    "        self.conv2 = GCNConv(16, data.num_classes)   \n",
    "    \n",
    "    def forward(self, data):\n",
    "        # x: Node feature matrix \n",
    "        # edge_index: Graph connectivity matrix        \n",
    "        x, edge_index = data.x, data.edge_index\n",
    "        x = self.conv1(x, edge_index)\n",
    "        x = F.relu(x)\n",
    "        x = F.dropout(x, training=self.training)\n",
    "        x = self.conv2(x, edge_index)\n",
    "        \n",
    "        return F.log_softmax(x, dim=1)\n",
    "\n",
    "model = GCN().to(device)\n",
    "data = data.to(device)\n",
    "optimizer = torch.optim.Adam(model.parameters(), lr=0.01, weight_decay=5e-4)\n",
    "print(\"Graph Convolutional Network (GCN):\")\n",
    "GCN()"
   ]
  },
  {
   "cell_type": "code",
   "execution_count": 83,
   "id": "e77125f2",
   "metadata": {},
   "outputs": [
    {
     "name": "stdout",
     "output_type": "stream",
     "text": [
      "Epoch: 10, Loss: 4594.3657, Training Acc: 0.3958\n",
      "Epoch: 20, Loss: 5635.3379, Training Acc: 0.6658\n",
      "Epoch: 30, Loss: 4284.4199, Training Acc: 0.6081\n",
      "Epoch: 40, Loss: 2993.6726, Training Acc: 0.5124\n",
      "Epoch: 50, Loss: 2222.1672, Training Acc: 0.6032\n",
      "Epoch: 60, Loss: 1744.5785, Training Acc: 0.5641\n",
      "Epoch: 70, Loss: 1473.7809, Training Acc: 0.5700\n",
      "Epoch: 80, Loss: 1249.5635, Training Acc: 0.6008\n",
      "Epoch: 90, Loss: 1074.3857, Training Acc: 0.5603\n",
      "Epoch: 100, Loss: 896.3304, Training Acc: 0.5740\n",
      "Epoch: 110, Loss: 726.3765, Training Acc: 0.5270\n",
      "Epoch: 120, Loss: 664.1389, Training Acc: 0.4609\n",
      "Epoch: 130, Loss: 476.9018, Training Acc: 0.4726\n",
      "Epoch: 140, Loss: 358.4817, Training Acc: 0.5684\n",
      "Epoch: 150, Loss: 310.2226, Training Acc: 0.5152\n",
      "Epoch: 160, Loss: 247.2195, Training Acc: 0.5100\n",
      "Epoch: 170, Loss: 209.1277, Training Acc: 0.5120\n",
      "Epoch: 180, Loss: 190.0162, Training Acc: 0.5159\n",
      "Epoch: 190, Loss: 143.0040, Training Acc: 0.5713\n",
      "Epoch: 200, Loss: 120.5919, Training Acc: 0.5587\n"
     ]
    }
   ],
   "source": [
    "# train the model\n",
    "model.train()\n",
    "losses = []\n",
    "accuracies = []\n",
    "epoch_stable = []\n",
    "for epoch in range(200):\n",
    "    optimizer.zero_grad()\n",
    "    out = model(data)\n",
    "    loss = F.nll_loss(out[data.train_mask], data.y[data.train_mask])\n",
    "    correct = compute_accuracy(out.argmax(dim=1)[data.train_mask], data.y[data.train_mask])\n",
    "    acc = int(correct) / int(data.train_mask.sum())\n",
    "    losses.append(loss.item()/1000)\n",
    "    accuracies.append(acc*10000)\n",
    "    loss.backward()\n",
    "    optimizer.step()\n",
    "    if (epoch+1) % 10 == 0:\n",
    "        print('Epoch: {}, Loss: {:.4f}, Training Acc: {:.4f}'.format(epoch+1, loss.item(), acc))"
   ]
  },
  {
   "cell_type": "code",
   "execution_count": 84,
   "id": "ed5c403f",
   "metadata": {},
   "outputs": [
    {
     "name": "stdout",
     "output_type": "stream",
     "text": [
      "Accuracy: 0.7402\n"
     ]
    }
   ],
   "source": [
    "model.eval()\n",
    "pred = model(data).argmax(dim=1)\n",
    "correct = compute_accuracy(pred[data.test_mask], data.y[data.test_mask])\n",
    "acc = int(correct) / int(data.test_mask.sum())\n",
    "print(f'Accuracy: {acc:.4f}')"
   ]
  },
  {
   "cell_type": "code",
   "execution_count": 85,
   "id": "36c5e7d1",
   "metadata": {},
   "outputs": [
    {
     "name": "stdout",
     "output_type": "stream",
     "text": [
      "Graph Convolutional Network (GCN):\n"
     ]
    },
    {
     "data": {
      "text/plain": [
       "SAGECN(\n",
       "  (conv1): SAGEConv(1, 16, aggr=mean)\n",
       "  (conv2): SAGEConv(16, 21, aggr=mean)\n",
       ")"
      ]
     },
     "execution_count": 85,
     "metadata": {},
     "output_type": "execute_result"
    }
   ],
   "source": [
    "device = torch.device('cuda' if torch.cuda.is_available() else 'cpu')\n",
    "\n",
    "class SAGECN(torch.nn.Module):\n",
    "    def __init__(self):\n",
    "        super().__init__()\n",
    "        self.conv1 = SAGEConv(data.num_node_features, 16)\n",
    "        self.conv2 = SAGEConv(16, data.num_classes)   \n",
    "    \n",
    "    def forward(self, data):\n",
    "        # x: Node feature matrix \n",
    "        # edge_index: Graph connectivity matrix        \n",
    "        x, edge_index = data.x, data.edge_index\n",
    "        x = self.conv1(x, edge_index)\n",
    "        x = F.relu(x)\n",
    "        x = F.dropout(x, training=self.training)\n",
    "        x = self.conv2(x, edge_index)\n",
    "        \n",
    "        return F.log_softmax(x, dim=1)\n",
    "\n",
    "model = SAGECN().to(device)\n",
    "data = data.to(device)\n",
    "optimizer = torch.optim.Adam(model.parameters(), lr=0.01, weight_decay=5e-4)\n",
    "print(\"Graph Convolutional Network (GCN):\")\n",
    "SAGECN()"
   ]
  },
  {
   "cell_type": "code",
   "execution_count": 86,
   "id": "f6b8495c",
   "metadata": {},
   "outputs": [
    {
     "name": "stdout",
     "output_type": "stream",
     "text": [
      "Epoch: 10, Loss: 25871.5000, Training Acc: 0.6902\n",
      "Epoch: 20, Loss: 15540.1338, Training Acc: 0.5593\n",
      "Epoch: 30, Loss: 8264.8047, Training Acc: 0.5615\n",
      "Epoch: 40, Loss: 5522.2358, Training Acc: 0.5516\n",
      "Epoch: 50, Loss: 3644.7698, Training Acc: 0.6092\n",
      "Epoch: 60, Loss: 2442.5212, Training Acc: 0.6034\n",
      "Epoch: 70, Loss: 1945.5668, Training Acc: 0.5928\n",
      "Epoch: 80, Loss: 1697.8372, Training Acc: 0.4186\n",
      "Epoch: 90, Loss: 1205.2484, Training Acc: 0.3269\n",
      "Epoch: 100, Loss: 1182.0908, Training Acc: 0.6003\n",
      "Epoch: 110, Loss: 1315.2778, Training Acc: 0.4142\n",
      "Epoch: 120, Loss: 1574.3534, Training Acc: 0.5333\n",
      "Epoch: 130, Loss: 1551.9508, Training Acc: 0.5612\n",
      "Epoch: 140, Loss: 867.1945, Training Acc: 0.5866\n",
      "Epoch: 150, Loss: 982.3398, Training Acc: 0.7107\n",
      "Epoch: 160, Loss: 1010.3718, Training Acc: 0.1535\n",
      "Epoch: 170, Loss: 978.2234, Training Acc: 0.6308\n",
      "Epoch: 180, Loss: 663.0765, Training Acc: 0.6911\n",
      "Epoch: 190, Loss: 402.5407, Training Acc: 0.4388\n",
      "Epoch: 200, Loss: 608.8264, Training Acc: 0.4223\n"
     ]
    }
   ],
   "source": [
    "# train the model\n",
    "model.train()\n",
    "losses = []\n",
    "accuracies = []\n",
    "epoch_stable = []\n",
    "for epoch in range(200):\n",
    "    optimizer.zero_grad()\n",
    "    out = model(data)\n",
    "    loss = F.nll_loss(out[data.train_mask], data.y[data.train_mask])\n",
    "    correct = compute_accuracy(out.argmax(dim=1)[data.train_mask], data.y[data.train_mask])\n",
    "    acc = int(correct) / int(data.train_mask.sum())\n",
    "    losses.append(loss.item()/1000)\n",
    "    accuracies.append(acc*10000)\n",
    "    loss.backward()\n",
    "    optimizer.step()\n",
    "    if (epoch+1) % 10 == 0:\n",
    "        print('Epoch: {}, Loss: {:.4f}, Training Acc: {:.4f}'.format(epoch+1, loss.item(), acc))"
   ]
  },
  {
   "cell_type": "code",
   "execution_count": 87,
   "id": "bc3b625b",
   "metadata": {},
   "outputs": [
    {
     "name": "stdout",
     "output_type": "stream",
     "text": [
      "Accuracy: 0.7385\n"
     ]
    }
   ],
   "source": [
    "model.eval()\n",
    "pred = model(data).argmax(dim=1)\n",
    "correct = compute_accuracy(pred[data.test_mask], data.y[data.test_mask])\n",
    "acc = int(correct) / int(data.test_mask.sum())\n",
    "print(f'Accuracy: {acc:.4f}')"
   ]
  },
  {
   "cell_type": "code",
   "execution_count": 88,
   "id": "2c8f28b5",
   "metadata": {},
   "outputs": [
    {
     "name": "stdout",
     "output_type": "stream",
     "text": [
      "Graph Convolutional Network (GCN):\n"
     ]
    },
    {
     "data": {
      "text/plain": [
       "GATCN(\n",
       "  (conv1): GATConv(1, 16, heads=1)\n",
       "  (conv2): GATConv(16, 21, heads=1)\n",
       ")"
      ]
     },
     "execution_count": 88,
     "metadata": {},
     "output_type": "execute_result"
    }
   ],
   "source": [
    "device = torch.device('cuda' if torch.cuda.is_available() else 'cpu')\n",
    "\n",
    "class GATCN(torch.nn.Module):\n",
    "    def __init__(self):\n",
    "        super().__init__()\n",
    "        self.conv1 = GATConv(data.num_node_features, 16)\n",
    "        self.conv2 = GATConv(16, data.num_classes)   \n",
    "    \n",
    "    def forward(self, data):\n",
    "        # x: Node feature matrix \n",
    "        # edge_index: Graph connectivity matrix        \n",
    "        x, edge_index = data.x, data.edge_index\n",
    "        x = self.conv1(x, edge_index)\n",
    "        x = F.relu(x)\n",
    "        x = F.dropout(x, training=self.training)\n",
    "        x = self.conv2(x, edge_index)\n",
    "        \n",
    "        return F.log_softmax(x, dim=1)\n",
    "\n",
    "model = GATCN().to(device)\n",
    "data = data.to(device)\n",
    "optimizer = torch.optim.Adam(model.parameters(), lr=0.01, weight_decay=5e-4)\n",
    "print(\"Graph Convolutional Network (GCN):\")\n",
    "GATCN()"
   ]
  },
  {
   "cell_type": "code",
   "execution_count": 89,
   "id": "700cd699",
   "metadata": {},
   "outputs": [
    {
     "name": "stdout",
     "output_type": "stream",
     "text": [
      "Epoch: 10, Loss: 4037.9187, Training Acc: 0.5856\n",
      "Epoch: 20, Loss: 71.2553, Training Acc: 0.6591\n",
      "Epoch: 30, Loss: 17.5411, Training Acc: 0.3262\n",
      "Epoch: 40, Loss: 17.1531, Training Acc: 0.5977\n",
      "Epoch: 50, Loss: 15.3569, Training Acc: 0.6930\n",
      "Epoch: 60, Loss: 13.6613, Training Acc: 0.6865\n",
      "Epoch: 70, Loss: 12.1782, Training Acc: 0.7050\n",
      "Epoch: 80, Loss: 12.3782, Training Acc: 0.7179\n",
      "Epoch: 90, Loss: 11.6111, Training Acc: 0.7139\n",
      "Epoch: 100, Loss: 11.6038, Training Acc: 0.7209\n",
      "Epoch: 110, Loss: 10.9582, Training Acc: 0.7165\n",
      "Epoch: 120, Loss: 9.8024, Training Acc: 0.7252\n",
      "Epoch: 130, Loss: 10.2173, Training Acc: 0.7240\n",
      "Epoch: 140, Loss: 9.8679, Training Acc: 0.7246\n",
      "Epoch: 150, Loss: 9.4816, Training Acc: 0.7257\n",
      "Epoch: 160, Loss: 8.3578, Training Acc: 0.7190\n",
      "Epoch: 170, Loss: 7.6288, Training Acc: 0.7269\n",
      "Epoch: 180, Loss: 8.0253, Training Acc: 0.7264\n",
      "Epoch: 190, Loss: 7.3051, Training Acc: 0.7239\n",
      "Epoch: 200, Loss: 6.4689, Training Acc: 0.7254\n"
     ]
    }
   ],
   "source": [
    "# train the model\n",
    "model.train()\n",
    "losses = []\n",
    "accuracies = []\n",
    "epoch_stable = []\n",
    "for epoch in range(200):\n",
    "    optimizer.zero_grad()\n",
    "    out = model(data)\n",
    "    loss = F.nll_loss(out[data.train_mask], data.y[data.train_mask])\n",
    "    correct = compute_accuracy(out.argmax(dim=1)[data.train_mask], data.y[data.train_mask])\n",
    "    acc = int(correct) / int(data.train_mask.sum())\n",
    "    losses.append(loss.item()/1000)\n",
    "    accuracies.append(acc*10000)\n",
    "    loss.backward()\n",
    "    optimizer.step()\n",
    "    if (epoch+1) % 10 == 0:\n",
    "        print('Epoch: {}, Loss: {:.4f}, Training Acc: {:.4f}'.format(epoch+1, loss.item(), acc))"
   ]
  },
  {
   "cell_type": "code",
   "execution_count": 90,
   "id": "92032ef6",
   "metadata": {},
   "outputs": [
    {
     "name": "stdout",
     "output_type": "stream",
     "text": [
      "Accuracy: 0.7402\n"
     ]
    }
   ],
   "source": [
    "model.eval()\n",
    "pred = model(data).argmax(dim=1)\n",
    "correct = compute_accuracy(pred[data.test_mask], data.y[data.test_mask])\n",
    "acc = int(correct) / int(data.test_mask.sum())\n",
    "print(f'Accuracy: {acc:.4f}')"
   ]
  },
  {
   "cell_type": "code",
   "execution_count": 91,
   "id": "9c15949f",
   "metadata": {},
   "outputs": [],
   "source": [
    "torch.cuda.empty_cache()"
   ]
  },
  {
   "cell_type": "markdown",
   "id": "b6617e13",
   "metadata": {},
   "source": [
    "Affiliation Status Identification"
   ]
  },
  {
   "cell_type": "code",
   "execution_count": 92,
   "id": "5af94749",
   "metadata": {},
   "outputs": [
    {
     "data": {
      "text/plain": [
       "torch.Size([168114, 1])"
      ]
     },
     "execution_count": 92,
     "metadata": {},
     "output_type": "execute_result"
    }
   ],
   "source": [
    "# Select node features\n",
    "labels = features_dataset[[\"affiliate\"]]\n",
    "labels.head()\n",
    "\n",
    "# labels = labels.astype(float)\n",
    "\n",
    "# Convert to numpy\n",
    "y =  torch.from_numpy(labels.to_numpy())\n",
    "y.shape # [num_nodes, 1] --> node regression"
   ]
  },
  {
   "cell_type": "code",
   "execution_count": 93,
   "id": "b6e3424c",
   "metadata": {},
   "outputs": [],
   "source": [
    "y = y.reshape(-1,)"
   ]
  },
  {
   "cell_type": "code",
   "execution_count": 94,
   "id": "f600d588",
   "metadata": {},
   "outputs": [
    {
     "data": {
      "text/plain": [
       "torch.Size([168114])"
      ]
     },
     "execution_count": 94,
     "metadata": {},
     "output_type": "execute_result"
    }
   ],
   "source": [
    "y.shape"
   ]
  },
  {
   "cell_type": "code",
   "execution_count": 95,
   "id": "6ea78bca",
   "metadata": {},
   "outputs": [],
   "source": [
    "from torch_geometric.data import Data\n",
    "data = Data(x=x, edge_index=all_edges, y=y)"
   ]
  },
  {
   "cell_type": "code",
   "execution_count": 96,
   "id": "fa80783b",
   "metadata": {},
   "outputs": [
    {
     "data": {
      "text/plain": [
       "Data(x=[168114, 1], edge_index=[2, 6797557], y=[168114])"
      ]
     },
     "execution_count": 96,
     "metadata": {},
     "output_type": "execute_result"
    }
   ],
   "source": [
    "data"
   ]
  },
  {
   "cell_type": "code",
   "execution_count": 97,
   "id": "bcd23243",
   "metadata": {},
   "outputs": [],
   "source": [
    "data.num_classes = 2\n",
    "data.train_mask = train_mask\n",
    "data.test_mask = test_mask\n",
    "data.val_mask = val_mask"
   ]
  },
  {
   "cell_type": "code",
   "execution_count": 98,
   "id": "f603984d",
   "metadata": {},
   "outputs": [
    {
     "data": {
      "text/plain": [
       "Data(x=[168114, 1], edge_index=[2, 6797557], y=[168114], num_classes=2, train_mask=[168114], test_mask=[168114], val_mask=[168114])"
      ]
     },
     "execution_count": 98,
     "metadata": {},
     "output_type": "execute_result"
    }
   ],
   "source": [
    "data"
   ]
  },
  {
   "cell_type": "code",
   "execution_count": 99,
   "id": "c94da7c4",
   "metadata": {},
   "outputs": [
    {
     "name": "stdout",
     "output_type": "stream",
     "text": [
      "Data(x=[168114, 1], edge_index=[2, 6797557], y=[168114], num_classes=2, train_mask=[168114], test_mask=[168114], val_mask=[168114])\n",
      "number of graphs:\t\t 7\n",
      "number of classes:\t\t 2\n",
      "number of classes:\t\t [0 1]\n",
      "number of node features:\t 1\n",
      "number of edge features:\t 0\n",
      "X shape:  torch.Size([168114, 1])\n",
      "Edge shape:  torch.Size([2, 6797557])\n",
      "Y shape:  torch.Size([168114])\n"
     ]
    }
   ],
   "source": [
    "print(data)\n",
    "print(\"number of graphs:\\t\\t\",len(data))\n",
    "print(\"number of classes:\\t\\t\",data.num_classes)\n",
    "print(\"number of classes:\\t\\t\",np.unique(data.y))\n",
    "print(\"number of node features:\\t\",data.num_node_features)\n",
    "print(\"number of edge features:\\t\",data.num_edge_features)\n",
    "print(\"X shape: \", data.x.shape)\n",
    "print(\"Edge shape: \", data.edge_index.shape)\n",
    "print(\"Y shape: \", data.y.shape)"
   ]
  },
  {
   "cell_type": "code",
   "execution_count": 100,
   "id": "7d43c199",
   "metadata": {},
   "outputs": [
    {
     "name": "stdout",
     "output_type": "stream",
     "text": [
      "Graph Convolutional Network (GCN):\n"
     ]
    },
    {
     "data": {
      "text/plain": [
       "GCN(\n",
       "  (conv1): GCNConv(1, 16)\n",
       "  (conv2): GCNConv(16, 2)\n",
       ")"
      ]
     },
     "execution_count": 100,
     "metadata": {},
     "output_type": "execute_result"
    }
   ],
   "source": [
    "device = torch.device('cuda' if torch.cuda.is_available() else 'cpu')\n",
    "\n",
    "class GCN(torch.nn.Module):\n",
    "    def __init__(self):\n",
    "        super().__init__()\n",
    "        self.conv1 = GCNConv(data.num_node_features, 16)\n",
    "        self.conv2 = GCNConv(16, data.num_classes)   \n",
    "    \n",
    "    def forward(self, data):\n",
    "        # x: Node feature matrix \n",
    "        # edge_index: Graph connectivity matrix        \n",
    "        x, edge_index = data.x, data.edge_index\n",
    "        x = self.conv1(x, edge_index)\n",
    "        x = F.relu(x)\n",
    "        x = F.dropout(x, training=self.training)\n",
    "        x = self.conv2(x, edge_index)\n",
    "        \n",
    "        return F.log_softmax(x, dim=1)\n",
    "\n",
    "model = GCN().to(device)\n",
    "data = data.to(device)\n",
    "optimizer = torch.optim.Adam(model.parameters(), lr=0.01, weight_decay=5e-4)\n",
    "print(\"Graph Convolutional Network (GCN):\")\n",
    "GCN()"
   ]
  },
  {
   "cell_type": "code",
   "execution_count": 102,
   "id": "4aa6c690",
   "metadata": {},
   "outputs": [
    {
     "name": "stdout",
     "output_type": "stream",
     "text": [
      "Epoch: 10, Loss: 330.0388, Training Acc: 0.5137\n",
      "Epoch: 20, Loss: 28.8396, Training Acc: 0.4954\n",
      "Epoch: 30, Loss: 226.8124, Training Acc: 0.4853\n",
      "Epoch: 40, Loss: 46.1765, Training Acc: 0.5032\n",
      "Epoch: 50, Loss: 306.5750, Training Acc: 0.5138\n",
      "Epoch: 60, Loss: 573.1097, Training Acc: 0.5147\n",
      "Epoch: 70, Loss: 227.3119, Training Acc: 0.5138\n",
      "Epoch: 80, Loss: 140.9728, Training Acc: 0.5122\n",
      "Epoch: 90, Loss: 19.9780, Training Acc: 0.4880\n",
      "Epoch: 100, Loss: 106.3802, Training Acc: 0.5145\n",
      "Epoch: 110, Loss: 182.5476, Training Acc: 0.5147\n",
      "Epoch: 120, Loss: 13.9099, Training Acc: 0.4905\n",
      "Epoch: 130, Loss: 146.4393, Training Acc: 0.4856\n",
      "Epoch: 140, Loss: 319.4242, Training Acc: 0.5148\n",
      "Epoch: 150, Loss: 35.3138, Training Acc: 0.5114\n",
      "Epoch: 160, Loss: 105.6124, Training Acc: 0.5148\n",
      "Epoch: 170, Loss: 121.6744, Training Acc: 0.4885\n",
      "Epoch: 180, Loss: 116.3296, Training Acc: 0.4908\n",
      "Epoch: 190, Loss: 54.2342, Training Acc: 0.4873\n",
      "Epoch: 200, Loss: 168.8339, Training Acc: 0.5148\n"
     ]
    }
   ],
   "source": [
    "# train the model\n",
    "model.train()\n",
    "losses = []\n",
    "accuracies = []\n",
    "epoch_stable = []\n",
    "for epoch in range(200):\n",
    "    optimizer.zero_grad()\n",
    "    out = model(data)\n",
    "    loss = F.nll_loss(out[data.train_mask], data.y[data.train_mask])\n",
    "    correct = compute_accuracy(out.argmax(dim=1)[data.train_mask], data.y[data.train_mask])\n",
    "    acc = int(correct) / int(data.train_mask.sum())\n",
    "    losses.append(loss.item()/1000)\n",
    "    accuracies.append(acc*10000)\n",
    "    loss.backward()\n",
    "    optimizer.step()\n",
    "    if (epoch+1) % 10 == 0:\n",
    "        print('Epoch: {}, Loss: {:.4f}, Training Acc: {:.4f}'.format(epoch+1, loss.item(), acc))"
   ]
  },
  {
   "cell_type": "code",
   "execution_count": 103,
   "id": "7abe0ac5",
   "metadata": {},
   "outputs": [
    {
     "name": "stdout",
     "output_type": "stream",
     "text": [
      "Accuracy: 0.5142\n"
     ]
    }
   ],
   "source": [
    "model.eval()\n",
    "pred = model(data).argmax(dim=1)\n",
    "correct = compute_accuracy(pred[data.test_mask], data.y[data.test_mask])\n",
    "acc = int(correct) / int(data.test_mask.sum())\n",
    "print(f'Accuracy: {acc:.4f}')"
   ]
  },
  {
   "cell_type": "code",
   "execution_count": 104,
   "id": "39d5c472",
   "metadata": {},
   "outputs": [
    {
     "name": "stdout",
     "output_type": "stream",
     "text": [
      "Graph Convolutional Network (GCN):\n"
     ]
    },
    {
     "data": {
      "text/plain": [
       "SAGECN(\n",
       "  (conv1): SAGEConv(1, 16, aggr=mean)\n",
       "  (conv2): SAGEConv(16, 2, aggr=mean)\n",
       ")"
      ]
     },
     "execution_count": 104,
     "metadata": {},
     "output_type": "execute_result"
    }
   ],
   "source": [
    "device = torch.device('cuda' if torch.cuda.is_available() else 'cpu')\n",
    "\n",
    "class SAGECN(torch.nn.Module):\n",
    "    def __init__(self):\n",
    "        super().__init__()\n",
    "        self.conv1 = SAGEConv(data.num_node_features, 16)\n",
    "        self.conv2 = SAGEConv(16, data.num_classes)   \n",
    "    \n",
    "    def forward(self, data):\n",
    "        # x: Node feature matrix \n",
    "        # edge_index: Graph connectivity matrix        \n",
    "        x, edge_index = data.x, data.edge_index\n",
    "        x = self.conv1(x, edge_index)\n",
    "        x = F.relu(x)\n",
    "        x = F.dropout(x, training=self.training)\n",
    "        x = self.conv2(x, edge_index)\n",
    "        \n",
    "        return F.log_softmax(x, dim=1)\n",
    "\n",
    "model = SAGECN().to(device)\n",
    "data = data.to(device)\n",
    "optimizer = torch.optim.Adam(model.parameters(), lr=0.01, weight_decay=5e-4)\n",
    "print(\"Graph Convolutional Network (GCN):\")\n",
    "SAGECN()"
   ]
  },
  {
   "cell_type": "code",
   "execution_count": 105,
   "id": "d04514c7",
   "metadata": {},
   "outputs": [
    {
     "name": "stdout",
     "output_type": "stream",
     "text": [
      "Epoch: 10, Loss: 22711.7266, Training Acc: 0.4947\n",
      "Epoch: 20, Loss: 11811.5264, Training Acc: 0.5034\n",
      "Epoch: 30, Loss: 5153.5674, Training Acc: 0.5005\n",
      "Epoch: 40, Loss: 4185.5376, Training Acc: 0.5110\n",
      "Epoch: 50, Loss: 2896.5632, Training Acc: 0.5041\n",
      "Epoch: 60, Loss: 2141.3992, Training Acc: 0.5036\n",
      "Epoch: 70, Loss: 1570.2141, Training Acc: 0.5031\n",
      "Epoch: 80, Loss: 1082.0494, Training Acc: 0.5187\n",
      "Epoch: 90, Loss: 894.1318, Training Acc: 0.5184\n",
      "Epoch: 100, Loss: 464.9858, Training Acc: 0.5146\n",
      "Epoch: 110, Loss: 325.1484, Training Acc: 0.4965\n",
      "Epoch: 120, Loss: 1093.5674, Training Acc: 0.5107\n",
      "Epoch: 130, Loss: 1681.1971, Training Acc: 0.4859\n",
      "Epoch: 140, Loss: 2128.2485, Training Acc: 0.5147\n",
      "Epoch: 150, Loss: 379.3544, Training Acc: 0.5052\n",
      "Epoch: 160, Loss: 733.7258, Training Acc: 0.4870\n",
      "Epoch: 170, Loss: 538.6768, Training Acc: 0.4891\n",
      "Epoch: 180, Loss: 577.8620, Training Acc: 0.5121\n",
      "Epoch: 190, Loss: 268.3410, Training Acc: 0.4968\n",
      "Epoch: 200, Loss: 211.8831, Training Acc: 0.4975\n"
     ]
    }
   ],
   "source": [
    "# train the model\n",
    "model.train()\n",
    "losses = []\n",
    "accuracies = []\n",
    "epoch_stable = []\n",
    "for epoch in range(200):\n",
    "    optimizer.zero_grad()\n",
    "    out = model(data)\n",
    "    loss = F.nll_loss(out[data.train_mask], data.y[data.train_mask])\n",
    "    correct = compute_accuracy(out.argmax(dim=1)[data.train_mask], data.y[data.train_mask])\n",
    "    acc = int(correct) / int(data.train_mask.sum())\n",
    "    losses.append(loss.item()/1000)\n",
    "    accuracies.append(acc*10000)\n",
    "    loss.backward()\n",
    "    optimizer.step()\n",
    "    if (epoch+1) % 10 == 0:\n",
    "        print('Epoch: {}, Loss: {:.4f}, Training Acc: {:.4f}'.format(epoch+1, loss.item(), acc))"
   ]
  },
  {
   "cell_type": "code",
   "execution_count": 106,
   "id": "2f004118",
   "metadata": {},
   "outputs": [
    {
     "name": "stdout",
     "output_type": "stream",
     "text": [
      "Accuracy: 0.5267\n"
     ]
    }
   ],
   "source": [
    "model.eval()\n",
    "pred = model(data).argmax(dim=1)\n",
    "correct = compute_accuracy(pred[data.test_mask], data.y[data.test_mask])\n",
    "acc = int(correct) / int(data.test_mask.sum())\n",
    "print(f'Accuracy: {acc:.4f}')"
   ]
  },
  {
   "cell_type": "code",
   "execution_count": 107,
   "id": "6df7da5f",
   "metadata": {},
   "outputs": [
    {
     "name": "stdout",
     "output_type": "stream",
     "text": [
      "Graph Convolutional Network (GCN):\n"
     ]
    },
    {
     "data": {
      "text/plain": [
       "GATCN(\n",
       "  (conv1): GATConv(1, 16, heads=1)\n",
       "  (conv2): GATConv(16, 2, heads=1)\n",
       ")"
      ]
     },
     "execution_count": 107,
     "metadata": {},
     "output_type": "execute_result"
    }
   ],
   "source": [
    "device = torch.device('cuda' if torch.cuda.is_available() else 'cpu')\n",
    "\n",
    "class GATCN(torch.nn.Module):\n",
    "    def __init__(self):\n",
    "        super().__init__()\n",
    "        self.conv1 = GATConv(data.num_node_features, 16)\n",
    "        self.conv2 = GATConv(16, data.num_classes)   \n",
    "    \n",
    "    def forward(self, data):\n",
    "        # x: Node feature matrix \n",
    "        # edge_index: Graph connectivity matrix        \n",
    "        x, edge_index = data.x, data.edge_index\n",
    "        x = self.conv1(x, edge_index)\n",
    "        x = F.relu(x)\n",
    "        x = F.dropout(x, training=self.training)\n",
    "        x = self.conv2(x, edge_index)\n",
    "        \n",
    "        return F.log_softmax(x, dim=1)\n",
    "\n",
    "model = GATCN().to(device)\n",
    "data = data.to(device)\n",
    "optimizer = torch.optim.Adam(model.parameters(), lr=0.01, weight_decay=5e-4)\n",
    "print(\"Graph Convolutional Network (GCN):\")\n",
    "GATCN()"
   ]
  },
  {
   "cell_type": "code",
   "execution_count": 108,
   "id": "0b6ef4c2",
   "metadata": {},
   "outputs": [
    {
     "name": "stdout",
     "output_type": "stream",
     "text": [
      "Epoch: 10, Loss: 993.9878, Training Acc: 0.5531\n",
      "Epoch: 20, Loss: 758.9821, Training Acc: 0.5521\n",
      "Epoch: 30, Loss: 407.7310, Training Acc: 0.5506\n",
      "Epoch: 40, Loss: 441.2668, Training Acc: 0.5429\n",
      "Epoch: 50, Loss: 409.8798, Training Acc: 0.5441\n",
      "Epoch: 60, Loss: 373.9543, Training Acc: 0.5469\n",
      "Epoch: 70, Loss: 335.2215, Training Acc: 0.5381\n",
      "Epoch: 80, Loss: 355.1660, Training Acc: 0.5419\n",
      "Epoch: 90, Loss: 803.8299, Training Acc: 0.5349\n",
      "Epoch: 100, Loss: 283.0875, Training Acc: 0.5351\n",
      "Epoch: 110, Loss: 304.4244, Training Acc: 0.5373\n",
      "Epoch: 120, Loss: 408.3054, Training Acc: 0.5392\n",
      "Epoch: 130, Loss: 270.1129, Training Acc: 0.5335\n",
      "Epoch: 140, Loss: 318.0359, Training Acc: 0.5400\n",
      "Epoch: 150, Loss: 335.5360, Training Acc: 0.5444\n",
      "Epoch: 160, Loss: 281.6624, Training Acc: 0.5428\n",
      "Epoch: 170, Loss: 288.7307, Training Acc: 0.5404\n",
      "Epoch: 180, Loss: 246.6561, Training Acc: 0.5324\n",
      "Epoch: 190, Loss: 233.7589, Training Acc: 0.5446\n",
      "Epoch: 200, Loss: 223.6935, Training Acc: 0.5387\n"
     ]
    }
   ],
   "source": [
    "# train the model\n",
    "model.train()\n",
    "losses = []\n",
    "accuracies = []\n",
    "epoch_stable = []\n",
    "for epoch in range(200):\n",
    "    optimizer.zero_grad()\n",
    "    out = model(data)\n",
    "    loss = F.nll_loss(out[data.train_mask], data.y[data.train_mask])\n",
    "    correct = compute_accuracy(out.argmax(dim=1)[data.train_mask], data.y[data.train_mask])\n",
    "    acc = int(correct) / int(data.train_mask.sum())\n",
    "    losses.append(loss.item()/1000)\n",
    "    accuracies.append(acc*10000)\n",
    "    loss.backward()\n",
    "    optimizer.step()\n",
    "    if (epoch+1) % 10 == 0:\n",
    "        print('Epoch: {}, Loss: {:.4f}, Training Acc: {:.4f}'.format(epoch+1, loss.item(), acc))"
   ]
  },
  {
   "cell_type": "code",
   "execution_count": 109,
   "id": "7349e25f",
   "metadata": {},
   "outputs": [
    {
     "name": "stdout",
     "output_type": "stream",
     "text": [
      "Accuracy: 0.5151\n"
     ]
    }
   ],
   "source": [
    "model.eval()\n",
    "pred = model(data).argmax(dim=1)\n",
    "correct = compute_accuracy(pred[data.test_mask], data.y[data.test_mask])\n",
    "acc = int(correct) / int(data.test_mask.sum())\n",
    "print(f'Accuracy: {acc:.4f}')"
   ]
  },
  {
   "cell_type": "code",
   "execution_count": null,
   "id": "20c79392",
   "metadata": {},
   "outputs": [],
   "source": []
  }
 ],
 "metadata": {
  "kernelspec": {
   "display_name": "Python 3 (ipykernel)",
   "language": "python",
   "name": "python3"
  },
  "language_info": {
   "codemirror_mode": {
    "name": "ipython",
    "version": 3
   },
   "file_extension": ".py",
   "mimetype": "text/x-python",
   "name": "python",
   "nbconvert_exporter": "python",
   "pygments_lexer": "ipython3",
   "version": "3.10.6"
  }
 },
 "nbformat": 4,
 "nbformat_minor": 5
}
