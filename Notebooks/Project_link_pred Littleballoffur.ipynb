{
 "cells": [
  {
   "cell_type": "code",
   "execution_count": 1,
   "id": "aa43ce16-2490-4091-9284-33e6f0b2426d",
   "metadata": {},
   "outputs": [],
   "source": [
    "# import all libraries \n",
    "import numpy as np\n",
    "from sklearn.linear_model import LogisticRegression\n",
    "import matplotlib.pyplot as plt\n",
    "import networkx as nx\n",
    "from sklearn.manifold import TSNE\n",
    "import random\n",
    "import warnings\n",
    "from sklearn.cluster import KMeans\n",
    "from sklearn.metrics import accuracy_score, f1_score\n",
    "import community as comm\n",
    "import pandas as pd\n",
    "warnings.filterwarnings('ignore')\n",
    "%run ./helper.ipynb"
   ]
  },
  {
   "cell_type": "code",
   "execution_count": null,
   "id": "cfe67152-5abe-4e9d-8f3a-18ed4a22ed23",
   "metadata": {},
   "outputs": [],
   "source": [
    "pip install littleballoffur"
   ]
  },
  {
   "cell_type": "code",
   "execution_count": 2,
   "id": "e7d1d908-6e5f-49f3-b0d5-42ebb6200685",
   "metadata": {},
   "outputs": [],
   "source": [
    "def node_classification(embeddings, label):\n",
    "    X, Y = read_node_label(label,skip_head=True)\n",
    "    \n",
    "    ltrainfrac = [0.05, 0.1, 0.2, 0.3, .4, .5, .6, .7, .8]\n",
    "    for tf in ltrainfrac:\n",
    "        print(\"Training classifier using {:.2f}% nodes...\".format(tf * 100))\n",
    "        split_train_evaluate(X, Y, embeddings, tf)\n",
    "\n",
    "\n",
    "        \n",
    "        \n",
    "def makeLinkPredictionData(graph, embeddings):\n",
    "    # converting embedding to a numpy array\n",
    "    X = [[0] for i in range(G.number_of_nodes())]\n",
    "    for i in range(0,G.number_of_nodes()):\n",
    "        X[i] = embeddings[i+1]\n",
    "    X = np.array(X)\n",
    "    \n",
    "    Xd = []\n",
    "    Yd = []\n",
    "    count = 0\n",
    "    # for all vertices\n",
    "    nodes=np.array(list(graph.nodes()),dtype=int)\n",
    "    nodes.sort()\n",
    "    print(nodes.shape)\n",
    "    print(nodes[:20])\n",
    "    for u in range(graph.number_of_nodes()):\n",
    "        # print(u)\n",
    "        Nu = list(graph.neighbors(u))\n",
    "        count += len(Nu)\n",
    "        cn = 0\n",
    "        totalns = 0\n",
    "        # for all neighbors of u\n",
    "        for n in Nu:\n",
    "            x = []\n",
    "            if n > u:\n",
    "                for d in range(len(X[0])):\n",
    "                    x.append(X[u][d] - X[n][d]) # distance between the embeddings of u and its neighbor n\n",
    "                Xd.append(x)\n",
    "                Yd.append(1) # positive sample (edge present)\n",
    "                totalns += 1\n",
    "        tmpnn = []\n",
    "        if len(Nu) > graph.number_of_nodes() // 2:\n",
    "            totalns = (graph.number_of_nodes() - len(Nu)) // 2\n",
    "            #print(\"Testing neighbors!\")\n",
    "        while cn < totalns:\n",
    "            nn = random.randint(0, graph.number_of_nodes() - 1)\n",
    "            # non-neighbors of u\n",
    "            if nn not in Nu and nn not in tmpnn:\n",
    "                cn += 1\n",
    "                x = []\n",
    "                for d in range(len(X[0])):\n",
    "                    x.append(X[u][d] - X[nn][d])\n",
    "                Xd.append(x)\n",
    "                Yd.append(0) # negative sample (edge absent)\n",
    "                tmpnn.append(nn)\n",
    "    Xd, Yd = np.array(Xd), np.array(Yd)\n",
    "    indices = np.array(range(len(Yd)))\n",
    "    np.random.shuffle(indices)\n",
    "    Xt = Xd[indices]\n",
    "    Yt = Yd[indices]\n",
    "    #print(len(Xd), len(Yd), count)\n",
    "    \n",
    "    \n",
    "    ltrainfrac = .75\n",
    "    # for tf in ltrainfrac:\n",
    "    CV = int(len(Yt) * ltrainfrac)\n",
    "    trainX = Xt[0:CV]\n",
    "    testX = Xt[CV:]\n",
    "    trainY = Yt[0:CV]\n",
    "    testY = Yt[CV:]\n",
    "    modelLR = LogisticRegression().fit(trainX, trainY)\n",
    "    predictedY = modelLR.predict(testX)\n",
    "    acc = accuracy_score(predictedY, testY)\n",
    "    #f1macro = f1_score(predictedY, testY, average='macro', labels=np.unique(predictedY))\n",
    "    #f1micro = f1_score(predictedY, testY, average='micro', labels=np.unique(predictedY))\n",
    "    #print(\"Link predictions:\", tf, \":Accuracy:\",acc, \"F1-macro:\", f1macro, \"F1-micro:\",f1micro)\n",
    "    print(\"Link predictions:\", ltrainfrac, \":Accuracy:\",acc)\n",
    "\n",
    "\n",
    "\n",
    "def cluster_eval(G, embeddings):\n",
    "    # converting embedding to a numpy array\n",
    "    X = [[0] for i in range(G.number_of_nodes())]\n",
    "    for i in range(0, G.number_of_nodes()):\n",
    "        X[i] = embeddings[str(i+1)]\n",
    "    X = np.array(X)\n",
    "\n",
    "    bestModularity = 0\n",
    "    bestC = 2\n",
    "    NOC = 30\n",
    "    allmodularity = []\n",
    "    for cls in range(2, NOC):\n",
    "        \n",
    "        # find clusters using a kmeans clustering algorithm on the embedding\n",
    "        # Number of clusters is set to cls\n",
    "        clusters = KMeans(n_clusters=cls, random_state=0).fit(X)\n",
    "        predG = dict()\n",
    "        for node in range(len(clusters.labels_)):\n",
    "            predG[node] = clusters.labels_[node]\n",
    "        \n",
    "        # compute the modularity score of the Kmeans clustering\n",
    "        modularity = comm.community_louvain.modularity(predG, G)\n",
    "        allmodularity.append(modularity)\n",
    "        print(\"Number of clusters: \", cls, \"  Modularity: \", modularity)\n",
    "        if modularity > bestModularity:\n",
    "            bestModularity = modularity\n",
    "            bestC = cls\n",
    "    plt.scatter(range(2, NOC), allmodularity)\n",
    "    plt.xlabel(\"Number of clusters\")\n",
    "    plt.ylabel(\"Modularity score\")\n",
    "    plt.show()\n",
    "    #print(\"Best Modularity:\",bestModularity, \"Clusters:\", bestC)\n",
    "\n",
    "    \n",
    "    \n",
    "def plot_embeddings(embeddings, label):\n",
    "\n",
    "    X, Y = read_node_label(label,skip_head=True)\n",
    "    emb_list = []\n",
    "    for k in X:\n",
    "        emb_list.append(embeddings[k])\n",
    "    emb_list = np.array(emb_list)\n",
    "\n",
    "    model = TSNE(n_components=2)\n",
    "    node_pos = model.fit_transform(emb_list)\n",
    "    color_idx = {}\n",
    "\n",
    "    for i in range(len(X)):\n",
    "        color_idx.setdefault(Y[i][0], [])\n",
    "        color_idx[Y[i][0]].append(i)\n",
    "\n",
    "    for c, idx in color_idx.items():\n",
    "        plt.scatter(node_pos[idx, 0], node_pos[idx, 1], label=c)  # c=node_colors)\n",
    "    plt.legend()\n",
    "    plt.show()"
   ]
  },
  {
   "cell_type": "code",
   "execution_count": 3,
   "id": "a0618d6a-5bd6-4519-9a26-163cee07031b",
   "metadata": {},
   "outputs": [
    {
     "name": "stdout",
     "output_type": "stream",
     "text": [
      "Number of nodes:  168114\n",
      "Number of edges:  6797557\n"
     ]
    }
   ],
   "source": [
    "### Read the twitch streamers dataset as a networkx grap\n",
    "graphfile = 'twitch_edges.txt'\n",
    "G = nx.read_edgelist('edges_twich_gamers.txt', create_using=nx.Graph(), nodetype=int)\n",
    "print(\"Number of nodes: \", G.number_of_nodes())\n",
    "print(\"Number of edges: \", G.number_of_edges())\n"
   ]
  },
  {
   "cell_type": "code",
   "execution_count": 5,
   "id": "c526e451-413d-4a89-80ad-2f5e6d661a35",
   "metadata": {},
   "outputs": [
    {
     "name": "stdout",
     "output_type": "stream",
     "text": [
      "Learning embedding vectors...\n",
      "Learning embedding vectors done!\n"
     ]
    }
   ],
   "source": [
    "###Embedding on the entire graph using Dwwpwalk\n",
    "walks_deepwalk = deepwalk_walks(G, walk_length=6,num_walks=10)\n",
    "embeddings_deepwalk = get_embedding(G,walks_deepwalk)"
   ]
  },
  {
   "cell_type": "code",
   "execution_count": null,
   "id": "93817834-21fd-46ae-8ddd-a9c97a9287c9",
   "metadata": {},
   "outputs": [],
   "source": [
    "import networkx as nx\n",
    "from littleballoffur import RandomWalkSampler\n",
    "model = RandomWalkSampler(number_of_nodes = 100)\n",
    "new_graph_rw_100 = model.sample(G)\n",
    "print(\"Number of nodes: \", new_graph_rw_100.number_of_nodes())\n",
    "print(\"Number of edges: \", new_graph_rw_100.number_of_edges())"
   ]
  },
  {
   "cell_type": "code",
   "execution_count": 6,
   "id": "53d7e03e-f78f-433c-ada0-087aa4bf85a5",
   "metadata": {},
   "outputs": [
    {
     "name": "stdout",
     "output_type": "stream",
     "text": [
      "Number of nodes:  10000\n",
      "Number of edges:  468545\n"
     ]
    }
   ],
   "source": [
    "import networkx as nx\n",
    "from littleballoffur import RandomWalkSampler\n",
    "model = RandomWalkSampler(number_of_nodes = 10000)\n",
    "new_graph_rw = model.sample(G)\n",
    "print(\"Number of nodes: \", new_graph_rw.number_of_nodes())\n",
    "print(\"Number of edges: \", new_graph_rw.number_of_edges())"
   ]
  },
  {
   "cell_type": "code",
   "execution_count": 7,
   "id": "85ad73f2-46e5-46ff-9f19-bff49fc4fae7",
   "metadata": {},
   "outputs": [
    {
     "ename": "KeyError",
     "evalue": "(14513, 10097)",
     "output_type": "error",
     "traceback": [
      "\u001b[1;31m---------------------------------------------------------------------------\u001b[0m",
      "\u001b[1;31mKeyError\u001b[0m                                  Traceback (most recent call last)",
      "Input \u001b[1;32mIn [7]\u001b[0m, in \u001b[0;36m<cell line: 1>\u001b[1;34m()\u001b[0m\n\u001b[1;32m----> 1\u001b[0m walks_node2vec \u001b[38;5;241m=\u001b[39m \u001b[43mnode2vec_walks\u001b[49m\u001b[43m(\u001b[49m\u001b[43mnew_graph_rw\u001b[49m\u001b[43m,\u001b[49m\u001b[43m \u001b[49m\u001b[43mp\u001b[49m\u001b[38;5;241;43m=\u001b[39;49m\u001b[38;5;241;43m0.25\u001b[39;49m\u001b[43m,\u001b[49m\u001b[43mq\u001b[49m\u001b[38;5;241;43m=\u001b[39;49m\u001b[38;5;241;43m2\u001b[39;49m\u001b[43m,\u001b[49m\u001b[43m \u001b[49m\u001b[43mwalk_length\u001b[49m\u001b[38;5;241;43m=\u001b[39;49m\u001b[38;5;241;43m6\u001b[39;49m\u001b[43m,\u001b[49m\u001b[43m \u001b[49m\u001b[43mnum_walks\u001b[49m\u001b[38;5;241;43m=\u001b[39;49m\u001b[38;5;241;43m10\u001b[39;49m\u001b[43m)\u001b[49m\n\u001b[0;32m      2\u001b[0m embeddings_node2vec \u001b[38;5;241m=\u001b[39m get_embedding(new_graph_rw,walks_node2vec)\n",
      "File \u001b[1;32m~\\AppData\\Local\\Temp\\ipykernel_2588\\1893782292.py:48\u001b[0m, in \u001b[0;36mnode2vec_walks\u001b[1;34m(G, p, q, num_walks, walk_length)\u001b[0m\n\u001b[0;32m     46\u001b[0m         prev \u001b[38;5;241m=\u001b[39m walk[\u001b[38;5;241m-\u001b[39m\u001b[38;5;241m2\u001b[39m]\n\u001b[0;32m     47\u001b[0m         edge \u001b[38;5;241m=\u001b[39m (prev, cur)\n\u001b[1;32m---> 48\u001b[0m         next_node \u001b[38;5;241m=\u001b[39m cur_nbrs[alias_sample(\u001b[43malias_edges\u001b[49m\u001b[43m[\u001b[49m\u001b[43medge\u001b[49m\u001b[43m]\u001b[49m[\u001b[38;5;241m0\u001b[39m],\n\u001b[0;32m     49\u001b[0m                                   alias_edges[edge][\u001b[38;5;241m1\u001b[39m])]\n\u001b[0;32m     50\u001b[0m         walk\u001b[38;5;241m.\u001b[39mappend(next_node)\n\u001b[0;32m     51\u001b[0m \u001b[38;5;28;01melse\u001b[39;00m:\n",
      "\u001b[1;31mKeyError\u001b[0m: (14513, 10097)"
     ]
    }
   ],
   "source": [
    "walks_node2vec = node2vec_walks(new_graph_rw, p=0.25,q=2, walk_length=6, num_walks=10)\n",
    "embeddings_node2vec = get_embedding(new_graph_rw,walks_node2vec)"
   ]
  },
  {
   "cell_type": "code",
   "execution_count": 10,
   "id": "deb82d52-2b3b-412a-9ed3-b07ff5858c14",
   "metadata": {},
   "outputs": [
    {
     "data": {
      "text/plain": [
       "[168114]"
      ]
     },
     "execution_count": 10,
     "metadata": {},
     "output_type": "execute_result"
    }
   ],
   "source": [
    "cc_sorted = [len(c) for c in sorted(nx.connected_components(G), key=len, reverse=True)]\n",
    "cc_sorted"
   ]
  },
  {
   "cell_type": "code",
   "execution_count": null,
   "id": "0aa15df6-cc6c-40a2-a232-883ac1663548",
   "metadata": {},
   "outputs": [
    {
     "name": "stderr",
     "output_type": "stream",
     "text": [
      "Exception in thread Exception in thread Exception in thread Thread-7Thread-6:\n",
      "Traceback (most recent call last):\n",
      ":\n",
      "Traceback (most recent call last):\n",
      "  File \"C:\\Users\\bhakt\\anaconda3\\lib\\threading.py\", line 973, in _bootstrap_inner\n",
      "Thread-5  File \"C:\\Users\\bhakt\\anaconda3\\lib\\threading.py\", line 973, in _bootstrap_inner\n",
      ":\n",
      "Traceback (most recent call last):\n",
      "  File \"C:\\Users\\bhakt\\anaconda3\\lib\\threading.py\", line 973, in _bootstrap_inner\n",
      "        self.run()\n",
      "  File \"C:\\Users\\bhakt\\anaconda3\\lib\\threading.py\", line 910, in run\n",
      "    self.run()\n",
      "  File \"C:\\Users\\bhakt\\anaconda3\\lib\\threading.py\", line 910, in run\n",
      "self.run()\n",
      "  File \"C:\\Users\\bhakt\\anaconda3\\lib\\threading.py\", line 910, in run\n",
      "    self._target(*self._args, **self._kwargs)\n",
      "  File \"C:\\Users\\bhakt\\anaconda3\\lib\\site-packages\\gensim\\models\\word2vec.py\", line 1162, in _worker_loop\n",
      "    self._target(*self._args, **self._kwargs)\n",
      "      File \"C:\\Users\\bhakt\\anaconda3\\lib\\site-packages\\gensim\\models\\word2vec.py\", line 1162, in _worker_loop\n",
      "self._target(*self._args, **self._kwargs)\n",
      "  File \"C:\\Users\\bhakt\\anaconda3\\lib\\site-packages\\gensim\\models\\word2vec.py\", line 1162, in _worker_loop\n",
      "    tally, raw_tally = self._do_train_job(data_iterable, alpha, thread_private_mem)\n",
      "  File \"C:\\Users\\bhakt\\anaconda3\\lib\\site-packages\\gensim\\models\\word2vec.py\", line 951, in _do_train_job\n",
      "    tally, raw_tally = self._do_train_job(data_iterable, alpha, thread_private_mem)\n",
      "  File \"C:\\Users\\bhakt\\anaconda3\\lib\\site-packages\\gensim\\models\\word2vec.py\", line 951, in _do_train_job\n",
      "    tally, raw_tally = self._do_train_job(data_iterable, alpha, thread_private_mem)\n",
      "  File \"C:\\Users\\bhakt\\anaconda3\\lib\\site-packages\\gensim\\models\\word2vec.py\", line 951, in _do_train_job\n",
      "    tally += train_batch_sg(self, sentences, alpha, work, self.compute_loss)\n",
      "  File \"gensim/models/word2vec_inner.pyx\", line 552, in gensim.models.word2vec_inner.train_batch_sg\n",
      "    tally += train_batch_sg(self, sentences, alpha, work, self.compute_loss)\n",
      "  File \"gensim/models/word2vec_inner.pyx\", line 552, in gensim.models.word2vec_inner.train_batch_sg\n",
      "    tally += train_batch_sg(self, sentences, alpha, work, self.compute_loss)\n",
      "  File \"gensim/models/word2vec_inner.pyx\", line 552, in gensim.models.word2vec_inner.train_batch_sg\n",
      "        c.codelens[effective_words] = <int>len(vocab_codes[word_index])\n",
      "TypeError: object of type 'int' has no len()\n",
      "c.codelens[effective_words] = <int>len(vocab_codes[word_index])\n",
      "TypeError: object of type 'int' has no len()    c.codelens[effective_words] = <int>len(vocab_codes[word_index])\n",
      "TypeError: \n",
      "object of type 'int' has no len()\n"
     ]
    },
    {
     "name": "stdout",
     "output_type": "stream",
     "text": [
      "Learning embedding vectors...\n"
     ]
    }
   ],
   "source": [
    "### Embedding using deepwalk\n",
    "walks_deepwalk = deepwalk_walks(new_graph_rw, walk_length=6,num_walks=10)\n",
    "embeddings_deepwalk = get_embedding(new_graph_rw,walks_deepwalk)"
   ]
  },
  {
   "cell_type": "code",
   "execution_count": null,
   "id": "387b8537-1dfa-4cfd-84d1-c4b426bf1120",
   "metadata": {},
   "outputs": [],
   "source": [
    "print(\"Number of nodes: \", new_graph_rw.number_of_nodes())\n",
    "print(\"Number of edges: \", new_graph_rw.number_of_edges())"
   ]
  },
  {
   "cell_type": "code",
   "execution_count": null,
   "id": "d3ecf28e-7406-465b-954c-4de965c37858",
   "metadata": {},
   "outputs": [],
   "source": [
    "### Random Neighbor sampling\n",
    "from littleballoffur.exploration_sampling import RandomNodeNeighborSampler\n",
    "sampler = RandomNodeNeighborSampler()\n",
    "new_graph_rn = sampler.sample(G)\n",
    "print(\"Number of nodes: \", new_graph_rn.number_of_nodes())\n",
    "print(\"Number of edges: \", new_graph_rn.number_of_edges())"
   ]
  },
  {
   "cell_type": "code",
   "execution_count": null,
   "id": "ad930efa-71d5-40a4-8b93-8c19e5bd707a",
   "metadata": {},
   "outputs": [],
   "source": [
    "first_node = next(iter(new_graph_rn))\n",
    "print(type(first_node))\n"
   ]
  },
  {
   "cell_type": "code",
   "execution_count": null,
   "id": "7cf888e1-b815-4809-b243-5b93bc7c31f8",
   "metadata": {},
   "outputs": [],
   "source": [
    "### Sample the graph using littltballoffur\n",
    "from littleballoffur import MetropolisHastingsRandomWalkSampler\n",
    "\n",
    "number_of_nodes = int(0.1*G.number_of_nodes())\n",
    "sampler = MetropolisHastingsRandomWalkSampler(number_of_nodes = number_of_nodes)\n",
    "new_graph_exp = sampler.sample(G)\n",
    "print(\"Number of nodes: \", new_graph_exp.number_of_nodes())\n",
    "print(\"Number of edges: \", new_graph_exp.number_of_edges())"
   ]
  },
  {
   "cell_type": "code",
   "execution_count": null,
   "id": "08ad5c3f-b8f2-4db9-90ba-6b435b13eded",
   "metadata": {},
   "outputs": [],
   "source": [
    "\"\"\"Breadth first search sampler example\"\"\"\n",
    "from littleballoffur.exploration_sampling import BreadthFirstSearchSampler\n",
    "\n",
    "sampler = BreadthFirstSearchSampler()\n",
    "\n",
    "new_graph = sampler.sample(G)\n"
   ]
  },
  {
   "cell_type": "code",
   "execution_count": null,
   "id": "f6cbc484-9de2-4cd8-8835-5bf366aa646a",
   "metadata": {},
   "outputs": [],
   "source": [
    "# G.nodes()"
   ]
  },
  {
   "cell_type": "code",
   "execution_count": null,
   "id": "6b71a93a-06e6-488d-a9da-976edf01b99a",
   "metadata": {},
   "outputs": [],
   "source": [
    "# new_graph_exp.nodes()"
   ]
  },
  {
   "cell_type": "code",
   "execution_count": null,
   "id": "47c07ec1-45e8-4549-9de5-5672df5f6892",
   "metadata": {},
   "outputs": [],
   "source": [
    "np.savetxt(\"new_graph_exp.txt\", new_graph_exp, delimiter=\" \", fmt=\"%s\")"
   ]
  },
  {
   "cell_type": "code",
   "execution_count": null,
   "id": "1c748ec9-6cc5-4359-bd92-3524c650dd10",
   "metadata": {},
   "outputs": [],
   "source": [
    "np.savetxt(\"G.txt\", G, delimiter=\" \", fmt=\"%s\")\n"
   ]
  },
  {
   "cell_type": "code",
   "execution_count": null,
   "id": "17d8e829-1309-45d5-a70f-9c357df831a7",
   "metadata": {},
   "outputs": [],
   "source": [
    "### Embedding using deepwalk\n",
    "walks_deepwalk = deepwalk_walks(new_graph_rn, walk_length=6,num_walks=10)\n",
    "embeddings_deepwalk = get_embedding(new_graph_rn,walks_deepwalk)"
   ]
  },
  {
   "cell_type": "code",
   "execution_count": null,
   "id": "d749b224-ab22-464f-b733-3ceaaa29e6da",
   "metadata": {},
   "outputs": [],
   "source": [
    "makeLinkPredictionData(new_graph_rw, embeddings_deepwalk) "
   ]
  },
  {
   "cell_type": "code",
   "execution_count": null,
   "id": "b9251215-6fed-4cd8-9cb3-9340f869c707",
   "metadata": {},
   "outputs": [],
   "source": []
  }
 ],
 "metadata": {
  "kernelspec": {
   "display_name": "Python 3 (ipykernel)",
   "language": "python",
   "name": "python3"
  },
  "language_info": {
   "codemirror_mode": {
    "name": "ipython",
    "version": 3
   },
   "file_extension": ".py",
   "mimetype": "text/x-python",
   "name": "python",
   "nbconvert_exporter": "python",
   "pygments_lexer": "ipython3",
   "version": "3.10.6"
  }
 },
 "nbformat": 4,
 "nbformat_minor": 5
}
